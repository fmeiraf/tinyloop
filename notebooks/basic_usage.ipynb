{
 "cells": [
  {
   "cell_type": "code",
   "execution_count": null,
   "id": "6ac3674a",
   "metadata": {},
   "outputs": [],
   "source": [
    "from rich import print as rprint"
   ]
  },
  {
   "cell_type": "markdown",
   "id": "025e7eb5",
   "metadata": {},
   "source": [
    "### Basic LLM call\n"
   ]
  },
  {
   "cell_type": "markdown",
   "id": "ccdec61d",
   "metadata": {},
   "source": [
    "#### Sync\n"
   ]
  },
  {
   "cell_type": "code",
   "execution_count": null,
   "id": "383941ce",
   "metadata": {},
   "outputs": [],
   "source": [
    "from tinyloop.inference.litellm import LLM\n",
    "\n",
    "llm = LLM(model=\"openai/gpt-3.5-turbo\", temperature=0.1)\n",
    "\n",
    "response = llm(prompt=\"Hello, how are you?\")\n",
    "rprint(response)"
   ]
  },
  {
   "cell_type": "code",
   "execution_count": null,
   "id": "8e746825",
   "metadata": {},
   "outputs": [],
   "source": [
    "llm.get_history()"
   ]
  },
  {
   "cell_type": "markdown",
   "id": "a57ce22e",
   "metadata": {},
   "source": [
    "#### Async\n"
   ]
  },
  {
   "cell_type": "code",
   "execution_count": null,
   "id": "ede8fad6",
   "metadata": {},
   "outputs": [],
   "source": [
    "from tinyloop.inference.litellm import LLM\n",
    "\n",
    "llm = LLM(model=\"openai/gpt-3.5-turbo\", temperature=0.1)\n",
    "\n",
    "response = await llm.acall(prompt=\"Hello, how are you?\")\n",
    "rprint(response)"
   ]
  },
  {
   "cell_type": "code",
   "execution_count": null,
   "id": "a0b49802",
   "metadata": {},
   "outputs": [],
   "source": [
    "llm.get_history()"
   ]
  },
  {
   "cell_type": "markdown",
   "id": "0ed7391a",
   "metadata": {},
   "source": [
    "### Streaming\n"
   ]
  },
  {
   "cell_type": "markdown",
   "id": "99ebefc5",
   "metadata": {},
   "source": [
    "#### Async\n"
   ]
  },
  {
   "cell_type": "code",
   "execution_count": 3,
   "id": "9d269276",
   "metadata": {},
   "outputs": [
    {
     "data": {
      "text/html": [
       "<pre style=\"white-space:pre;overflow-x:auto;line-height:normal;font-family:Menlo,'DejaVu Sans Mono',consolas,'Courier New',monospace\"><span style=\"color: #800080; text-decoration-color: #800080; font-weight: bold\">LLMStreamingResponse</span><span style=\"font-weight: bold\">(</span><span style=\"color: #808000; text-decoration-color: #808000\">id</span>=<span style=\"color: #008000; text-decoration-color: #008000\">'chatcmpl-CGoFAfTRtusA5sMlNciXogpioJwAj'</span>, <span style=\"color: #808000; text-decoration-color: #808000\">response</span>=<span style=\"color: #008000; text-decoration-color: #008000\">'Hello'</span>, <span style=\"color: #808000; text-decoration-color: #808000\">tool_calls</span>=<span style=\"font-weight: bold\">[])</span>\n",
       "</pre>\n"
      ],
      "text/plain": [
       "\u001b[1;35mLLMStreamingResponse\u001b[0m\u001b[1m(\u001b[0m\u001b[33mid\u001b[0m=\u001b[32m'chatcmpl-CGoFAfTRtusA5sMlNciXogpioJwAj'\u001b[0m, \u001b[33mresponse\u001b[0m=\u001b[32m'Hello'\u001b[0m, \u001b[33mtool_calls\u001b[0m=\u001b[1m[\u001b[0m\u001b[1m]\u001b[0m\u001b[1m)\u001b[0m\n"
      ]
     },
     "metadata": {},
     "output_type": "display_data"
    },
    {
     "data": {
      "text/html": [
       "<pre style=\"white-space:pre;overflow-x:auto;line-height:normal;font-family:Menlo,'DejaVu Sans Mono',consolas,'Courier New',monospace\"><span style=\"color: #800080; text-decoration-color: #800080; font-weight: bold\">LLMStreamingResponse</span><span style=\"font-weight: bold\">(</span><span style=\"color: #808000; text-decoration-color: #808000\">id</span>=<span style=\"color: #008000; text-decoration-color: #008000\">'chatcmpl-CGoFAfTRtusA5sMlNciXogpioJwAj'</span>, <span style=\"color: #808000; text-decoration-color: #808000\">response</span>=<span style=\"color: #008000; text-decoration-color: #008000\">'Hello!'</span>, <span style=\"color: #808000; text-decoration-color: #808000\">tool_calls</span>=<span style=\"font-weight: bold\">[])</span>\n",
       "</pre>\n"
      ],
      "text/plain": [
       "\u001b[1;35mLLMStreamingResponse\u001b[0m\u001b[1m(\u001b[0m\u001b[33mid\u001b[0m=\u001b[32m'chatcmpl-CGoFAfTRtusA5sMlNciXogpioJwAj'\u001b[0m, \u001b[33mresponse\u001b[0m=\u001b[32m'Hello!'\u001b[0m, \u001b[33mtool_calls\u001b[0m=\u001b[1m[\u001b[0m\u001b[1m]\u001b[0m\u001b[1m)\u001b[0m\n"
      ]
     },
     "metadata": {},
     "output_type": "display_data"
    },
    {
     "data": {
      "text/html": [
       "<pre style=\"white-space:pre;overflow-x:auto;line-height:normal;font-family:Menlo,'DejaVu Sans Mono',consolas,'Courier New',monospace\"><span style=\"color: #800080; text-decoration-color: #800080; font-weight: bold\">LLMStreamingResponse</span><span style=\"font-weight: bold\">(</span><span style=\"color: #808000; text-decoration-color: #808000\">id</span>=<span style=\"color: #008000; text-decoration-color: #008000\">'chatcmpl-CGoFAfTRtusA5sMlNciXogpioJwAj'</span>, <span style=\"color: #808000; text-decoration-color: #808000\">response</span>=<span style=\"color: #008000; text-decoration-color: #008000\">'Hello! I'</span>, <span style=\"color: #808000; text-decoration-color: #808000\">tool_calls</span>=<span style=\"font-weight: bold\">[])</span>\n",
       "</pre>\n"
      ],
      "text/plain": [
       "\u001b[1;35mLLMStreamingResponse\u001b[0m\u001b[1m(\u001b[0m\u001b[33mid\u001b[0m=\u001b[32m'chatcmpl-CGoFAfTRtusA5sMlNciXogpioJwAj'\u001b[0m, \u001b[33mresponse\u001b[0m=\u001b[32m'Hello! I'\u001b[0m, \u001b[33mtool_calls\u001b[0m=\u001b[1m[\u001b[0m\u001b[1m]\u001b[0m\u001b[1m)\u001b[0m\n"
      ]
     },
     "metadata": {},
     "output_type": "display_data"
    },
    {
     "data": {
      "text/html": [
       "<pre style=\"white-space:pre;overflow-x:auto;line-height:normal;font-family:Menlo,'DejaVu Sans Mono',consolas,'Courier New',monospace\"><span style=\"color: #800080; text-decoration-color: #800080; font-weight: bold\">LLMStreamingResponse</span><span style=\"font-weight: bold\">(</span><span style=\"color: #808000; text-decoration-color: #808000\">id</span>=<span style=\"color: #008000; text-decoration-color: #008000\">'chatcmpl-CGoFAfTRtusA5sMlNciXogpioJwAj'</span>, <span style=\"color: #808000; text-decoration-color: #808000\">response</span>=<span style=\"color: #008000; text-decoration-color: #008000\">\"Hello! I'm\"</span>, <span style=\"color: #808000; text-decoration-color: #808000\">tool_calls</span>=<span style=\"font-weight: bold\">[])</span>\n",
       "</pre>\n"
      ],
      "text/plain": [
       "\u001b[1;35mLLMStreamingResponse\u001b[0m\u001b[1m(\u001b[0m\u001b[33mid\u001b[0m=\u001b[32m'chatcmpl-CGoFAfTRtusA5sMlNciXogpioJwAj'\u001b[0m, \u001b[33mresponse\u001b[0m=\u001b[32m\"Hello\u001b[0m\u001b[32m! I'm\"\u001b[0m, \u001b[33mtool_calls\u001b[0m=\u001b[1m[\u001b[0m\u001b[1m]\u001b[0m\u001b[1m)\u001b[0m\n"
      ]
     },
     "metadata": {},
     "output_type": "display_data"
    },
    {
     "data": {
      "text/html": [
       "<pre style=\"white-space:pre;overflow-x:auto;line-height:normal;font-family:Menlo,'DejaVu Sans Mono',consolas,'Courier New',monospace\"><span style=\"color: #800080; text-decoration-color: #800080; font-weight: bold\">LLMStreamingResponse</span><span style=\"font-weight: bold\">(</span><span style=\"color: #808000; text-decoration-color: #808000\">id</span>=<span style=\"color: #008000; text-decoration-color: #008000\">'chatcmpl-CGoFAfTRtusA5sMlNciXogpioJwAj'</span>, <span style=\"color: #808000; text-decoration-color: #808000\">response</span>=<span style=\"color: #008000; text-decoration-color: #008000\">\"Hello! I'm just\"</span>, <span style=\"color: #808000; text-decoration-color: #808000\">tool_calls</span>=<span style=\"font-weight: bold\">[])</span>\n",
       "</pre>\n"
      ],
      "text/plain": [
       "\u001b[1;35mLLMStreamingResponse\u001b[0m\u001b[1m(\u001b[0m\u001b[33mid\u001b[0m=\u001b[32m'chatcmpl-CGoFAfTRtusA5sMlNciXogpioJwAj'\u001b[0m, \u001b[33mresponse\u001b[0m=\u001b[32m\"Hello\u001b[0m\u001b[32m! I'm just\"\u001b[0m, \u001b[33mtool_calls\u001b[0m=\u001b[1m[\u001b[0m\u001b[1m]\u001b[0m\u001b[1m)\u001b[0m\n"
      ]
     },
     "metadata": {},
     "output_type": "display_data"
    },
    {
     "data": {
      "text/html": [
       "<pre style=\"white-space:pre;overflow-x:auto;line-height:normal;font-family:Menlo,'DejaVu Sans Mono',consolas,'Courier New',monospace\"><span style=\"color: #800080; text-decoration-color: #800080; font-weight: bold\">LLMStreamingResponse</span><span style=\"font-weight: bold\">(</span><span style=\"color: #808000; text-decoration-color: #808000\">id</span>=<span style=\"color: #008000; text-decoration-color: #008000\">'chatcmpl-CGoFAfTRtusA5sMlNciXogpioJwAj'</span>, <span style=\"color: #808000; text-decoration-color: #808000\">response</span>=<span style=\"color: #008000; text-decoration-color: #008000\">\"Hello! I'm just a\"</span>, <span style=\"color: #808000; text-decoration-color: #808000\">tool_calls</span>=<span style=\"font-weight: bold\">[])</span>\n",
       "</pre>\n"
      ],
      "text/plain": [
       "\u001b[1;35mLLMStreamingResponse\u001b[0m\u001b[1m(\u001b[0m\u001b[33mid\u001b[0m=\u001b[32m'chatcmpl-CGoFAfTRtusA5sMlNciXogpioJwAj'\u001b[0m, \u001b[33mresponse\u001b[0m=\u001b[32m\"Hello\u001b[0m\u001b[32m! I'm just a\"\u001b[0m, \u001b[33mtool_calls\u001b[0m=\u001b[1m[\u001b[0m\u001b[1m]\u001b[0m\u001b[1m)\u001b[0m\n"
      ]
     },
     "metadata": {},
     "output_type": "display_data"
    },
    {
     "data": {
      "text/html": [
       "<pre style=\"white-space:pre;overflow-x:auto;line-height:normal;font-family:Menlo,'DejaVu Sans Mono',consolas,'Courier New',monospace\"><span style=\"color: #800080; text-decoration-color: #800080; font-weight: bold\">LLMStreamingResponse</span><span style=\"font-weight: bold\">(</span>\n",
       "    <span style=\"color: #808000; text-decoration-color: #808000\">id</span>=<span style=\"color: #008000; text-decoration-color: #008000\">'chatcmpl-CGoFAfTRtusA5sMlNciXogpioJwAj'</span>,\n",
       "    <span style=\"color: #808000; text-decoration-color: #808000\">response</span>=<span style=\"color: #008000; text-decoration-color: #008000\">\"Hello! I'm just a computer\"</span>,\n",
       "    <span style=\"color: #808000; text-decoration-color: #808000\">tool_calls</span>=<span style=\"font-weight: bold\">[]</span>\n",
       "<span style=\"font-weight: bold\">)</span>\n",
       "</pre>\n"
      ],
      "text/plain": [
       "\u001b[1;35mLLMStreamingResponse\u001b[0m\u001b[1m(\u001b[0m\n",
       "    \u001b[33mid\u001b[0m=\u001b[32m'chatcmpl-CGoFAfTRtusA5sMlNciXogpioJwAj'\u001b[0m,\n",
       "    \u001b[33mresponse\u001b[0m=\u001b[32m\"Hello\u001b[0m\u001b[32m! I'm just a computer\"\u001b[0m,\n",
       "    \u001b[33mtool_calls\u001b[0m=\u001b[1m[\u001b[0m\u001b[1m]\u001b[0m\n",
       "\u001b[1m)\u001b[0m\n"
      ]
     },
     "metadata": {},
     "output_type": "display_data"
    },
    {
     "data": {
      "text/html": [
       "<pre style=\"white-space:pre;overflow-x:auto;line-height:normal;font-family:Menlo,'DejaVu Sans Mono',consolas,'Courier New',monospace\"><span style=\"color: #800080; text-decoration-color: #800080; font-weight: bold\">LLMStreamingResponse</span><span style=\"font-weight: bold\">(</span>\n",
       "    <span style=\"color: #808000; text-decoration-color: #808000\">id</span>=<span style=\"color: #008000; text-decoration-color: #008000\">'chatcmpl-CGoFAfTRtusA5sMlNciXogpioJwAj'</span>,\n",
       "    <span style=\"color: #808000; text-decoration-color: #808000\">response</span>=<span style=\"color: #008000; text-decoration-color: #008000\">\"Hello! I'm just a computer program\"</span>,\n",
       "    <span style=\"color: #808000; text-decoration-color: #808000\">tool_calls</span>=<span style=\"font-weight: bold\">[]</span>\n",
       "<span style=\"font-weight: bold\">)</span>\n",
       "</pre>\n"
      ],
      "text/plain": [
       "\u001b[1;35mLLMStreamingResponse\u001b[0m\u001b[1m(\u001b[0m\n",
       "    \u001b[33mid\u001b[0m=\u001b[32m'chatcmpl-CGoFAfTRtusA5sMlNciXogpioJwAj'\u001b[0m,\n",
       "    \u001b[33mresponse\u001b[0m=\u001b[32m\"Hello\u001b[0m\u001b[32m! I'm just a computer program\"\u001b[0m,\n",
       "    \u001b[33mtool_calls\u001b[0m=\u001b[1m[\u001b[0m\u001b[1m]\u001b[0m\n",
       "\u001b[1m)\u001b[0m\n"
      ]
     },
     "metadata": {},
     "output_type": "display_data"
    },
    {
     "data": {
      "text/html": [
       "<pre style=\"white-space:pre;overflow-x:auto;line-height:normal;font-family:Menlo,'DejaVu Sans Mono',consolas,'Courier New',monospace\"><span style=\"color: #800080; text-decoration-color: #800080; font-weight: bold\">LLMStreamingResponse</span><span style=\"font-weight: bold\">(</span>\n",
       "    <span style=\"color: #808000; text-decoration-color: #808000\">id</span>=<span style=\"color: #008000; text-decoration-color: #008000\">'chatcmpl-CGoFAfTRtusA5sMlNciXogpioJwAj'</span>,\n",
       "    <span style=\"color: #808000; text-decoration-color: #808000\">response</span>=<span style=\"color: #008000; text-decoration-color: #008000\">\"Hello! I'm just a computer program,\"</span>,\n",
       "    <span style=\"color: #808000; text-decoration-color: #808000\">tool_calls</span>=<span style=\"font-weight: bold\">[]</span>\n",
       "<span style=\"font-weight: bold\">)</span>\n",
       "</pre>\n"
      ],
      "text/plain": [
       "\u001b[1;35mLLMStreamingResponse\u001b[0m\u001b[1m(\u001b[0m\n",
       "    \u001b[33mid\u001b[0m=\u001b[32m'chatcmpl-CGoFAfTRtusA5sMlNciXogpioJwAj'\u001b[0m,\n",
       "    \u001b[33mresponse\u001b[0m=\u001b[32m\"Hello\u001b[0m\u001b[32m! I'm just a computer program,\"\u001b[0m,\n",
       "    \u001b[33mtool_calls\u001b[0m=\u001b[1m[\u001b[0m\u001b[1m]\u001b[0m\n",
       "\u001b[1m)\u001b[0m\n"
      ]
     },
     "metadata": {},
     "output_type": "display_data"
    },
    {
     "data": {
      "text/html": [
       "<pre style=\"white-space:pre;overflow-x:auto;line-height:normal;font-family:Menlo,'DejaVu Sans Mono',consolas,'Courier New',monospace\"><span style=\"color: #800080; text-decoration-color: #800080; font-weight: bold\">LLMStreamingResponse</span><span style=\"font-weight: bold\">(</span>\n",
       "    <span style=\"color: #808000; text-decoration-color: #808000\">id</span>=<span style=\"color: #008000; text-decoration-color: #008000\">'chatcmpl-CGoFAfTRtusA5sMlNciXogpioJwAj'</span>,\n",
       "    <span style=\"color: #808000; text-decoration-color: #808000\">response</span>=<span style=\"color: #008000; text-decoration-color: #008000\">\"Hello! I'm just a computer program, so\"</span>,\n",
       "    <span style=\"color: #808000; text-decoration-color: #808000\">tool_calls</span>=<span style=\"font-weight: bold\">[]</span>\n",
       "<span style=\"font-weight: bold\">)</span>\n",
       "</pre>\n"
      ],
      "text/plain": [
       "\u001b[1;35mLLMStreamingResponse\u001b[0m\u001b[1m(\u001b[0m\n",
       "    \u001b[33mid\u001b[0m=\u001b[32m'chatcmpl-CGoFAfTRtusA5sMlNciXogpioJwAj'\u001b[0m,\n",
       "    \u001b[33mresponse\u001b[0m=\u001b[32m\"Hello\u001b[0m\u001b[32m! I'm just a computer program, so\"\u001b[0m,\n",
       "    \u001b[33mtool_calls\u001b[0m=\u001b[1m[\u001b[0m\u001b[1m]\u001b[0m\n",
       "\u001b[1m)\u001b[0m\n"
      ]
     },
     "metadata": {},
     "output_type": "display_data"
    },
    {
     "data": {
      "text/html": [
       "<pre style=\"white-space:pre;overflow-x:auto;line-height:normal;font-family:Menlo,'DejaVu Sans Mono',consolas,'Courier New',monospace\"><span style=\"color: #800080; text-decoration-color: #800080; font-weight: bold\">LLMStreamingResponse</span><span style=\"font-weight: bold\">(</span>\n",
       "    <span style=\"color: #808000; text-decoration-color: #808000\">id</span>=<span style=\"color: #008000; text-decoration-color: #008000\">'chatcmpl-CGoFAfTRtusA5sMlNciXogpioJwAj'</span>,\n",
       "    <span style=\"color: #808000; text-decoration-color: #808000\">response</span>=<span style=\"color: #008000; text-decoration-color: #008000\">\"Hello! I'm just a computer program, so I\"</span>,\n",
       "    <span style=\"color: #808000; text-decoration-color: #808000\">tool_calls</span>=<span style=\"font-weight: bold\">[]</span>\n",
       "<span style=\"font-weight: bold\">)</span>\n",
       "</pre>\n"
      ],
      "text/plain": [
       "\u001b[1;35mLLMStreamingResponse\u001b[0m\u001b[1m(\u001b[0m\n",
       "    \u001b[33mid\u001b[0m=\u001b[32m'chatcmpl-CGoFAfTRtusA5sMlNciXogpioJwAj'\u001b[0m,\n",
       "    \u001b[33mresponse\u001b[0m=\u001b[32m\"Hello\u001b[0m\u001b[32m! I'm just a computer program, so I\"\u001b[0m,\n",
       "    \u001b[33mtool_calls\u001b[0m=\u001b[1m[\u001b[0m\u001b[1m]\u001b[0m\n",
       "\u001b[1m)\u001b[0m\n"
      ]
     },
     "metadata": {},
     "output_type": "display_data"
    },
    {
     "data": {
      "text/html": [
       "<pre style=\"white-space:pre;overflow-x:auto;line-height:normal;font-family:Menlo,'DejaVu Sans Mono',consolas,'Courier New',monospace\"><span style=\"color: #800080; text-decoration-color: #800080; font-weight: bold\">LLMStreamingResponse</span><span style=\"font-weight: bold\">(</span>\n",
       "    <span style=\"color: #808000; text-decoration-color: #808000\">id</span>=<span style=\"color: #008000; text-decoration-color: #008000\">'chatcmpl-CGoFAfTRtusA5sMlNciXogpioJwAj'</span>,\n",
       "    <span style=\"color: #808000; text-decoration-color: #808000\">response</span>=<span style=\"color: #008000; text-decoration-color: #008000\">\"Hello! I'm just a computer program, so I don\"</span>,\n",
       "    <span style=\"color: #808000; text-decoration-color: #808000\">tool_calls</span>=<span style=\"font-weight: bold\">[]</span>\n",
       "<span style=\"font-weight: bold\">)</span>\n",
       "</pre>\n"
      ],
      "text/plain": [
       "\u001b[1;35mLLMStreamingResponse\u001b[0m\u001b[1m(\u001b[0m\n",
       "    \u001b[33mid\u001b[0m=\u001b[32m'chatcmpl-CGoFAfTRtusA5sMlNciXogpioJwAj'\u001b[0m,\n",
       "    \u001b[33mresponse\u001b[0m=\u001b[32m\"Hello\u001b[0m\u001b[32m! I'm just a computer program, so I don\"\u001b[0m,\n",
       "    \u001b[33mtool_calls\u001b[0m=\u001b[1m[\u001b[0m\u001b[1m]\u001b[0m\n",
       "\u001b[1m)\u001b[0m\n"
      ]
     },
     "metadata": {},
     "output_type": "display_data"
    },
    {
     "data": {
      "text/html": [
       "<pre style=\"white-space:pre;overflow-x:auto;line-height:normal;font-family:Menlo,'DejaVu Sans Mono',consolas,'Courier New',monospace\"><span style=\"color: #800080; text-decoration-color: #800080; font-weight: bold\">LLMStreamingResponse</span><span style=\"font-weight: bold\">(</span>\n",
       "    <span style=\"color: #808000; text-decoration-color: #808000\">id</span>=<span style=\"color: #008000; text-decoration-color: #008000\">'chatcmpl-CGoFAfTRtusA5sMlNciXogpioJwAj'</span>,\n",
       "    <span style=\"color: #808000; text-decoration-color: #808000\">response</span>=<span style=\"color: #008000; text-decoration-color: #008000\">\"Hello! I'm just a computer program, so I don't\"</span>,\n",
       "    <span style=\"color: #808000; text-decoration-color: #808000\">tool_calls</span>=<span style=\"font-weight: bold\">[]</span>\n",
       "<span style=\"font-weight: bold\">)</span>\n",
       "</pre>\n"
      ],
      "text/plain": [
       "\u001b[1;35mLLMStreamingResponse\u001b[0m\u001b[1m(\u001b[0m\n",
       "    \u001b[33mid\u001b[0m=\u001b[32m'chatcmpl-CGoFAfTRtusA5sMlNciXogpioJwAj'\u001b[0m,\n",
       "    \u001b[33mresponse\u001b[0m=\u001b[32m\"Hello\u001b[0m\u001b[32m! I'm just a computer program, so I don't\"\u001b[0m,\n",
       "    \u001b[33mtool_calls\u001b[0m=\u001b[1m[\u001b[0m\u001b[1m]\u001b[0m\n",
       "\u001b[1m)\u001b[0m\n"
      ]
     },
     "metadata": {},
     "output_type": "display_data"
    },
    {
     "data": {
      "text/html": [
       "<pre style=\"white-space:pre;overflow-x:auto;line-height:normal;font-family:Menlo,'DejaVu Sans Mono',consolas,'Courier New',monospace\"><span style=\"color: #800080; text-decoration-color: #800080; font-weight: bold\">LLMStreamingResponse</span><span style=\"font-weight: bold\">(</span>\n",
       "    <span style=\"color: #808000; text-decoration-color: #808000\">id</span>=<span style=\"color: #008000; text-decoration-color: #008000\">'chatcmpl-CGoFAfTRtusA5sMlNciXogpioJwAj'</span>,\n",
       "    <span style=\"color: #808000; text-decoration-color: #808000\">response</span>=<span style=\"color: #008000; text-decoration-color: #008000\">\"Hello! I'm just a computer program, so I don't have\"</span>,\n",
       "    <span style=\"color: #808000; text-decoration-color: #808000\">tool_calls</span>=<span style=\"font-weight: bold\">[]</span>\n",
       "<span style=\"font-weight: bold\">)</span>\n",
       "</pre>\n"
      ],
      "text/plain": [
       "\u001b[1;35mLLMStreamingResponse\u001b[0m\u001b[1m(\u001b[0m\n",
       "    \u001b[33mid\u001b[0m=\u001b[32m'chatcmpl-CGoFAfTRtusA5sMlNciXogpioJwAj'\u001b[0m,\n",
       "    \u001b[33mresponse\u001b[0m=\u001b[32m\"Hello\u001b[0m\u001b[32m! I'm just a computer program, so I don't have\"\u001b[0m,\n",
       "    \u001b[33mtool_calls\u001b[0m=\u001b[1m[\u001b[0m\u001b[1m]\u001b[0m\n",
       "\u001b[1m)\u001b[0m\n"
      ]
     },
     "metadata": {},
     "output_type": "display_data"
    },
    {
     "data": {
      "text/html": [
       "<pre style=\"white-space:pre;overflow-x:auto;line-height:normal;font-family:Menlo,'DejaVu Sans Mono',consolas,'Courier New',monospace\"><span style=\"color: #800080; text-decoration-color: #800080; font-weight: bold\">LLMStreamingResponse</span><span style=\"font-weight: bold\">(</span>\n",
       "    <span style=\"color: #808000; text-decoration-color: #808000\">id</span>=<span style=\"color: #008000; text-decoration-color: #008000\">'chatcmpl-CGoFAfTRtusA5sMlNciXogpioJwAj'</span>,\n",
       "    <span style=\"color: #808000; text-decoration-color: #808000\">response</span>=<span style=\"color: #008000; text-decoration-color: #008000\">\"Hello! I'm just a computer program, so I don't have feelings\"</span>,\n",
       "    <span style=\"color: #808000; text-decoration-color: #808000\">tool_calls</span>=<span style=\"font-weight: bold\">[]</span>\n",
       "<span style=\"font-weight: bold\">)</span>\n",
       "</pre>\n"
      ],
      "text/plain": [
       "\u001b[1;35mLLMStreamingResponse\u001b[0m\u001b[1m(\u001b[0m\n",
       "    \u001b[33mid\u001b[0m=\u001b[32m'chatcmpl-CGoFAfTRtusA5sMlNciXogpioJwAj'\u001b[0m,\n",
       "    \u001b[33mresponse\u001b[0m=\u001b[32m\"Hello\u001b[0m\u001b[32m! I'm just a computer program, so I don't have feelings\"\u001b[0m,\n",
       "    \u001b[33mtool_calls\u001b[0m=\u001b[1m[\u001b[0m\u001b[1m]\u001b[0m\n",
       "\u001b[1m)\u001b[0m\n"
      ]
     },
     "metadata": {},
     "output_type": "display_data"
    },
    {
     "data": {
      "text/html": [
       "<pre style=\"white-space:pre;overflow-x:auto;line-height:normal;font-family:Menlo,'DejaVu Sans Mono',consolas,'Courier New',monospace\"><span style=\"color: #800080; text-decoration-color: #800080; font-weight: bold\">LLMStreamingResponse</span><span style=\"font-weight: bold\">(</span>\n",
       "    <span style=\"color: #808000; text-decoration-color: #808000\">id</span>=<span style=\"color: #008000; text-decoration-color: #008000\">'chatcmpl-CGoFAfTRtusA5sMlNciXogpioJwAj'</span>,\n",
       "    <span style=\"color: #808000; text-decoration-color: #808000\">response</span>=<span style=\"color: #008000; text-decoration-color: #008000\">\"Hello! I'm just a computer program, so I don't have feelings,\"</span>,\n",
       "    <span style=\"color: #808000; text-decoration-color: #808000\">tool_calls</span>=<span style=\"font-weight: bold\">[]</span>\n",
       "<span style=\"font-weight: bold\">)</span>\n",
       "</pre>\n"
      ],
      "text/plain": [
       "\u001b[1;35mLLMStreamingResponse\u001b[0m\u001b[1m(\u001b[0m\n",
       "    \u001b[33mid\u001b[0m=\u001b[32m'chatcmpl-CGoFAfTRtusA5sMlNciXogpioJwAj'\u001b[0m,\n",
       "    \u001b[33mresponse\u001b[0m=\u001b[32m\"Hello\u001b[0m\u001b[32m! I'm just a computer program, so I don't have feelings,\"\u001b[0m,\n",
       "    \u001b[33mtool_calls\u001b[0m=\u001b[1m[\u001b[0m\u001b[1m]\u001b[0m\n",
       "\u001b[1m)\u001b[0m\n"
      ]
     },
     "metadata": {},
     "output_type": "display_data"
    },
    {
     "data": {
      "text/html": [
       "<pre style=\"white-space:pre;overflow-x:auto;line-height:normal;font-family:Menlo,'DejaVu Sans Mono',consolas,'Courier New',monospace\"><span style=\"color: #800080; text-decoration-color: #800080; font-weight: bold\">LLMStreamingResponse</span><span style=\"font-weight: bold\">(</span>\n",
       "    <span style=\"color: #808000; text-decoration-color: #808000\">id</span>=<span style=\"color: #008000; text-decoration-color: #008000\">'chatcmpl-CGoFAfTRtusA5sMlNciXogpioJwAj'</span>,\n",
       "    <span style=\"color: #808000; text-decoration-color: #808000\">response</span>=<span style=\"color: #008000; text-decoration-color: #008000\">\"Hello! I'm just a computer program, so I don't have feelings, but\"</span>,\n",
       "    <span style=\"color: #808000; text-decoration-color: #808000\">tool_calls</span>=<span style=\"font-weight: bold\">[]</span>\n",
       "<span style=\"font-weight: bold\">)</span>\n",
       "</pre>\n"
      ],
      "text/plain": [
       "\u001b[1;35mLLMStreamingResponse\u001b[0m\u001b[1m(\u001b[0m\n",
       "    \u001b[33mid\u001b[0m=\u001b[32m'chatcmpl-CGoFAfTRtusA5sMlNciXogpioJwAj'\u001b[0m,\n",
       "    \u001b[33mresponse\u001b[0m=\u001b[32m\"Hello\u001b[0m\u001b[32m! I'm just a computer program, so I don't have feelings, but\"\u001b[0m,\n",
       "    \u001b[33mtool_calls\u001b[0m=\u001b[1m[\u001b[0m\u001b[1m]\u001b[0m\n",
       "\u001b[1m)\u001b[0m\n"
      ]
     },
     "metadata": {},
     "output_type": "display_data"
    },
    {
     "data": {
      "text/html": [
       "<pre style=\"white-space:pre;overflow-x:auto;line-height:normal;font-family:Menlo,'DejaVu Sans Mono',consolas,'Courier New',monospace\"><span style=\"color: #800080; text-decoration-color: #800080; font-weight: bold\">LLMStreamingResponse</span><span style=\"font-weight: bold\">(</span>\n",
       "    <span style=\"color: #808000; text-decoration-color: #808000\">id</span>=<span style=\"color: #008000; text-decoration-color: #008000\">'chatcmpl-CGoFAfTRtusA5sMlNciXogpioJwAj'</span>,\n",
       "    <span style=\"color: #808000; text-decoration-color: #808000\">response</span>=<span style=\"color: #008000; text-decoration-color: #008000\">\"Hello! I'm just a computer program, so I don't have feelings, but I\"</span>,\n",
       "    <span style=\"color: #808000; text-decoration-color: #808000\">tool_calls</span>=<span style=\"font-weight: bold\">[]</span>\n",
       "<span style=\"font-weight: bold\">)</span>\n",
       "</pre>\n"
      ],
      "text/plain": [
       "\u001b[1;35mLLMStreamingResponse\u001b[0m\u001b[1m(\u001b[0m\n",
       "    \u001b[33mid\u001b[0m=\u001b[32m'chatcmpl-CGoFAfTRtusA5sMlNciXogpioJwAj'\u001b[0m,\n",
       "    \u001b[33mresponse\u001b[0m=\u001b[32m\"Hello\u001b[0m\u001b[32m! I'm just a computer program, so I don't have feelings, but I\"\u001b[0m,\n",
       "    \u001b[33mtool_calls\u001b[0m=\u001b[1m[\u001b[0m\u001b[1m]\u001b[0m\n",
       "\u001b[1m)\u001b[0m\n"
      ]
     },
     "metadata": {},
     "output_type": "display_data"
    },
    {
     "data": {
      "text/html": [
       "<pre style=\"white-space:pre;overflow-x:auto;line-height:normal;font-family:Menlo,'DejaVu Sans Mono',consolas,'Courier New',monospace\"><span style=\"color: #800080; text-decoration-color: #800080; font-weight: bold\">LLMStreamingResponse</span><span style=\"font-weight: bold\">(</span>\n",
       "    <span style=\"color: #808000; text-decoration-color: #808000\">id</span>=<span style=\"color: #008000; text-decoration-color: #008000\">'chatcmpl-CGoFAfTRtusA5sMlNciXogpioJwAj'</span>,\n",
       "    <span style=\"color: #808000; text-decoration-color: #808000\">response</span>=<span style=\"color: #008000; text-decoration-color: #008000\">\"Hello! I'm just a computer program, so I don't have feelings, but I'm\"</span>,\n",
       "    <span style=\"color: #808000; text-decoration-color: #808000\">tool_calls</span>=<span style=\"font-weight: bold\">[]</span>\n",
       "<span style=\"font-weight: bold\">)</span>\n",
       "</pre>\n"
      ],
      "text/plain": [
       "\u001b[1;35mLLMStreamingResponse\u001b[0m\u001b[1m(\u001b[0m\n",
       "    \u001b[33mid\u001b[0m=\u001b[32m'chatcmpl-CGoFAfTRtusA5sMlNciXogpioJwAj'\u001b[0m,\n",
       "    \u001b[33mresponse\u001b[0m=\u001b[32m\"Hello\u001b[0m\u001b[32m! I'm just a computer program, so I don't have feelings, but I'm\"\u001b[0m,\n",
       "    \u001b[33mtool_calls\u001b[0m=\u001b[1m[\u001b[0m\u001b[1m]\u001b[0m\n",
       "\u001b[1m)\u001b[0m\n"
      ]
     },
     "metadata": {},
     "output_type": "display_data"
    },
    {
     "data": {
      "text/html": [
       "<pre style=\"white-space:pre;overflow-x:auto;line-height:normal;font-family:Menlo,'DejaVu Sans Mono',consolas,'Courier New',monospace\"><span style=\"color: #800080; text-decoration-color: #800080; font-weight: bold\">LLMStreamingResponse</span><span style=\"font-weight: bold\">(</span>\n",
       "    <span style=\"color: #808000; text-decoration-color: #808000\">id</span>=<span style=\"color: #008000; text-decoration-color: #008000\">'chatcmpl-CGoFAfTRtusA5sMlNciXogpioJwAj'</span>,\n",
       "    <span style=\"color: #808000; text-decoration-color: #808000\">response</span>=<span style=\"color: #008000; text-decoration-color: #008000\">\"Hello! I'm just a computer program, so I don't have feelings, but I'm here\"</span>,\n",
       "    <span style=\"color: #808000; text-decoration-color: #808000\">tool_calls</span>=<span style=\"font-weight: bold\">[]</span>\n",
       "<span style=\"font-weight: bold\">)</span>\n",
       "</pre>\n"
      ],
      "text/plain": [
       "\u001b[1;35mLLMStreamingResponse\u001b[0m\u001b[1m(\u001b[0m\n",
       "    \u001b[33mid\u001b[0m=\u001b[32m'chatcmpl-CGoFAfTRtusA5sMlNciXogpioJwAj'\u001b[0m,\n",
       "    \u001b[33mresponse\u001b[0m=\u001b[32m\"Hello\u001b[0m\u001b[32m! I'm just a computer program, so I don't have feelings, but I'm here\"\u001b[0m,\n",
       "    \u001b[33mtool_calls\u001b[0m=\u001b[1m[\u001b[0m\u001b[1m]\u001b[0m\n",
       "\u001b[1m)\u001b[0m\n"
      ]
     },
     "metadata": {},
     "output_type": "display_data"
    },
    {
     "data": {
      "text/html": [
       "<pre style=\"white-space:pre;overflow-x:auto;line-height:normal;font-family:Menlo,'DejaVu Sans Mono',consolas,'Courier New',monospace\"><span style=\"color: #800080; text-decoration-color: #800080; font-weight: bold\">LLMStreamingResponse</span><span style=\"font-weight: bold\">(</span>\n",
       "    <span style=\"color: #808000; text-decoration-color: #808000\">id</span>=<span style=\"color: #008000; text-decoration-color: #008000\">'chatcmpl-CGoFAfTRtusA5sMlNciXogpioJwAj'</span>,\n",
       "    <span style=\"color: #808000; text-decoration-color: #808000\">response</span>=<span style=\"color: #008000; text-decoration-color: #008000\">\"Hello! I'm just a computer program, so I don't have feelings, but I'm here and\"</span>,\n",
       "    <span style=\"color: #808000; text-decoration-color: #808000\">tool_calls</span>=<span style=\"font-weight: bold\">[]</span>\n",
       "<span style=\"font-weight: bold\">)</span>\n",
       "</pre>\n"
      ],
      "text/plain": [
       "\u001b[1;35mLLMStreamingResponse\u001b[0m\u001b[1m(\u001b[0m\n",
       "    \u001b[33mid\u001b[0m=\u001b[32m'chatcmpl-CGoFAfTRtusA5sMlNciXogpioJwAj'\u001b[0m,\n",
       "    \u001b[33mresponse\u001b[0m=\u001b[32m\"Hello\u001b[0m\u001b[32m! I'm just a computer program, so I don't have feelings, but I'm here and\"\u001b[0m,\n",
       "    \u001b[33mtool_calls\u001b[0m=\u001b[1m[\u001b[0m\u001b[1m]\u001b[0m\n",
       "\u001b[1m)\u001b[0m\n"
      ]
     },
     "metadata": {},
     "output_type": "display_data"
    },
    {
     "data": {
      "text/html": [
       "<pre style=\"white-space:pre;overflow-x:auto;line-height:normal;font-family:Menlo,'DejaVu Sans Mono',consolas,'Courier New',monospace\"><span style=\"color: #800080; text-decoration-color: #800080; font-weight: bold\">LLMStreamingResponse</span><span style=\"font-weight: bold\">(</span>\n",
       "    <span style=\"color: #808000; text-decoration-color: #808000\">id</span>=<span style=\"color: #008000; text-decoration-color: #008000\">'chatcmpl-CGoFAfTRtusA5sMlNciXogpioJwAj'</span>,\n",
       "    <span style=\"color: #808000; text-decoration-color: #808000\">response</span>=<span style=\"color: #008000; text-decoration-color: #008000\">\"Hello! I'm just a computer program, so I don't have feelings, but I'm here and ready\"</span>,\n",
       "    <span style=\"color: #808000; text-decoration-color: #808000\">tool_calls</span>=<span style=\"font-weight: bold\">[]</span>\n",
       "<span style=\"font-weight: bold\">)</span>\n",
       "</pre>\n"
      ],
      "text/plain": [
       "\u001b[1;35mLLMStreamingResponse\u001b[0m\u001b[1m(\u001b[0m\n",
       "    \u001b[33mid\u001b[0m=\u001b[32m'chatcmpl-CGoFAfTRtusA5sMlNciXogpioJwAj'\u001b[0m,\n",
       "    \u001b[33mresponse\u001b[0m=\u001b[32m\"Hello\u001b[0m\u001b[32m! I'm just a computer program, so I don't have feelings, but I'm here and ready\"\u001b[0m,\n",
       "    \u001b[33mtool_calls\u001b[0m=\u001b[1m[\u001b[0m\u001b[1m]\u001b[0m\n",
       "\u001b[1m)\u001b[0m\n"
      ]
     },
     "metadata": {},
     "output_type": "display_data"
    },
    {
     "data": {
      "text/html": [
       "<pre style=\"white-space:pre;overflow-x:auto;line-height:normal;font-family:Menlo,'DejaVu Sans Mono',consolas,'Courier New',monospace\"><span style=\"color: #800080; text-decoration-color: #800080; font-weight: bold\">LLMStreamingResponse</span><span style=\"font-weight: bold\">(</span>\n",
       "    <span style=\"color: #808000; text-decoration-color: #808000\">id</span>=<span style=\"color: #008000; text-decoration-color: #008000\">'chatcmpl-CGoFAfTRtusA5sMlNciXogpioJwAj'</span>,\n",
       "    <span style=\"color: #808000; text-decoration-color: #808000\">response</span>=<span style=\"color: #008000; text-decoration-color: #008000\">\"Hello! I'm just a computer program, so I don't have feelings, but I'm here and ready to\"</span>,\n",
       "    <span style=\"color: #808000; text-decoration-color: #808000\">tool_calls</span>=<span style=\"font-weight: bold\">[]</span>\n",
       "<span style=\"font-weight: bold\">)</span>\n",
       "</pre>\n"
      ],
      "text/plain": [
       "\u001b[1;35mLLMStreamingResponse\u001b[0m\u001b[1m(\u001b[0m\n",
       "    \u001b[33mid\u001b[0m=\u001b[32m'chatcmpl-CGoFAfTRtusA5sMlNciXogpioJwAj'\u001b[0m,\n",
       "    \u001b[33mresponse\u001b[0m=\u001b[32m\"Hello\u001b[0m\u001b[32m! I'm just a computer program, so I don't have feelings, but I'm here and ready to\"\u001b[0m,\n",
       "    \u001b[33mtool_calls\u001b[0m=\u001b[1m[\u001b[0m\u001b[1m]\u001b[0m\n",
       "\u001b[1m)\u001b[0m\n"
      ]
     },
     "metadata": {},
     "output_type": "display_data"
    },
    {
     "data": {
      "text/html": [
       "<pre style=\"white-space:pre;overflow-x:auto;line-height:normal;font-family:Menlo,'DejaVu Sans Mono',consolas,'Courier New',monospace\"><span style=\"color: #800080; text-decoration-color: #800080; font-weight: bold\">LLMStreamingResponse</span><span style=\"font-weight: bold\">(</span>\n",
       "    <span style=\"color: #808000; text-decoration-color: #808000\">id</span>=<span style=\"color: #008000; text-decoration-color: #008000\">'chatcmpl-CGoFAfTRtusA5sMlNciXogpioJwAj'</span>,\n",
       "    <span style=\"color: #808000; text-decoration-color: #808000\">response</span>=<span style=\"color: #008000; text-decoration-color: #008000\">\"Hello! I'm just a computer program, so I don't have feelings, but I'm here and ready to assist\"</span>,\n",
       "    <span style=\"color: #808000; text-decoration-color: #808000\">tool_calls</span>=<span style=\"font-weight: bold\">[]</span>\n",
       "<span style=\"font-weight: bold\">)</span>\n",
       "</pre>\n"
      ],
      "text/plain": [
       "\u001b[1;35mLLMStreamingResponse\u001b[0m\u001b[1m(\u001b[0m\n",
       "    \u001b[33mid\u001b[0m=\u001b[32m'chatcmpl-CGoFAfTRtusA5sMlNciXogpioJwAj'\u001b[0m,\n",
       "    \u001b[33mresponse\u001b[0m=\u001b[32m\"Hello\u001b[0m\u001b[32m! I'm just a computer program, so I don't have feelings, but I'm here and ready to assist\"\u001b[0m,\n",
       "    \u001b[33mtool_calls\u001b[0m=\u001b[1m[\u001b[0m\u001b[1m]\u001b[0m\n",
       "\u001b[1m)\u001b[0m\n"
      ]
     },
     "metadata": {},
     "output_type": "display_data"
    },
    {
     "data": {
      "text/html": [
       "<pre style=\"white-space:pre;overflow-x:auto;line-height:normal;font-family:Menlo,'DejaVu Sans Mono',consolas,'Courier New',monospace\"><span style=\"color: #800080; text-decoration-color: #800080; font-weight: bold\">LLMStreamingResponse</span><span style=\"font-weight: bold\">(</span>\n",
       "    <span style=\"color: #808000; text-decoration-color: #808000\">id</span>=<span style=\"color: #008000; text-decoration-color: #008000\">'chatcmpl-CGoFAfTRtusA5sMlNciXogpioJwAj'</span>,\n",
       "    <span style=\"color: #808000; text-decoration-color: #808000\">response</span>=<span style=\"color: #008000; text-decoration-color: #008000\">\"Hello! I'm just a computer program, so I don't have feelings, but I'm here and ready to assist you\"</span>,\n",
       "    <span style=\"color: #808000; text-decoration-color: #808000\">tool_calls</span>=<span style=\"font-weight: bold\">[]</span>\n",
       "<span style=\"font-weight: bold\">)</span>\n",
       "</pre>\n"
      ],
      "text/plain": [
       "\u001b[1;35mLLMStreamingResponse\u001b[0m\u001b[1m(\u001b[0m\n",
       "    \u001b[33mid\u001b[0m=\u001b[32m'chatcmpl-CGoFAfTRtusA5sMlNciXogpioJwAj'\u001b[0m,\n",
       "    \u001b[33mresponse\u001b[0m=\u001b[32m\"Hello\u001b[0m\u001b[32m! I'm just a computer program, so I don't have feelings, but I'm here and ready to assist you\"\u001b[0m,\n",
       "    \u001b[33mtool_calls\u001b[0m=\u001b[1m[\u001b[0m\u001b[1m]\u001b[0m\n",
       "\u001b[1m)\u001b[0m\n"
      ]
     },
     "metadata": {},
     "output_type": "display_data"
    },
    {
     "data": {
      "text/html": [
       "<pre style=\"white-space:pre;overflow-x:auto;line-height:normal;font-family:Menlo,'DejaVu Sans Mono',consolas,'Courier New',monospace\"><span style=\"color: #800080; text-decoration-color: #800080; font-weight: bold\">LLMStreamingResponse</span><span style=\"font-weight: bold\">(</span>\n",
       "    <span style=\"color: #808000; text-decoration-color: #808000\">id</span>=<span style=\"color: #008000; text-decoration-color: #008000\">'chatcmpl-CGoFAfTRtusA5sMlNciXogpioJwAj'</span>,\n",
       "    <span style=\"color: #808000; text-decoration-color: #808000\">response</span>=<span style=\"color: #008000; text-decoration-color: #008000\">\"Hello! I'm just a computer program, so I don't have feelings, but I'm here and ready to assist you.\"</span>,\n",
       "    <span style=\"color: #808000; text-decoration-color: #808000\">tool_calls</span>=<span style=\"font-weight: bold\">[]</span>\n",
       "<span style=\"font-weight: bold\">)</span>\n",
       "</pre>\n"
      ],
      "text/plain": [
       "\u001b[1;35mLLMStreamingResponse\u001b[0m\u001b[1m(\u001b[0m\n",
       "    \u001b[33mid\u001b[0m=\u001b[32m'chatcmpl-CGoFAfTRtusA5sMlNciXogpioJwAj'\u001b[0m,\n",
       "    \u001b[33mresponse\u001b[0m=\u001b[32m\"Hello\u001b[0m\u001b[32m! I'm just a computer program, so I don't have feelings, but I'm here and ready to assist you.\"\u001b[0m,\n",
       "    \u001b[33mtool_calls\u001b[0m=\u001b[1m[\u001b[0m\u001b[1m]\u001b[0m\n",
       "\u001b[1m)\u001b[0m\n"
      ]
     },
     "metadata": {},
     "output_type": "display_data"
    },
    {
     "data": {
      "text/html": [
       "<pre style=\"white-space:pre;overflow-x:auto;line-height:normal;font-family:Menlo,'DejaVu Sans Mono',consolas,'Courier New',monospace\"><span style=\"color: #800080; text-decoration-color: #800080; font-weight: bold\">LLMStreamingResponse</span><span style=\"font-weight: bold\">(</span>\n",
       "    <span style=\"color: #808000; text-decoration-color: #808000\">id</span>=<span style=\"color: #008000; text-decoration-color: #008000\">'chatcmpl-CGoFAfTRtusA5sMlNciXogpioJwAj'</span>,\n",
       "    <span style=\"color: #808000; text-decoration-color: #808000\">response</span>=<span style=\"color: #008000; text-decoration-color: #008000\">\"Hello! I'm just a computer program, so I don't have feelings, but I'm here and ready to assist you. </span>\n",
       "<span style=\"color: #008000; text-decoration-color: #008000\">How\"</span>,\n",
       "    <span style=\"color: #808000; text-decoration-color: #808000\">tool_calls</span>=<span style=\"font-weight: bold\">[]</span>\n",
       "<span style=\"font-weight: bold\">)</span>\n",
       "</pre>\n"
      ],
      "text/plain": [
       "\u001b[1;35mLLMStreamingResponse\u001b[0m\u001b[1m(\u001b[0m\n",
       "    \u001b[33mid\u001b[0m=\u001b[32m'chatcmpl-CGoFAfTRtusA5sMlNciXogpioJwAj'\u001b[0m,\n",
       "    \u001b[33mresponse\u001b[0m=\u001b[32m\"Hello\u001b[0m\u001b[32m! I'm just a computer program, so I don't have feelings, but I'm here and ready to assist you. \u001b[0m\n",
       "\u001b[32mHow\"\u001b[0m,\n",
       "    \u001b[33mtool_calls\u001b[0m=\u001b[1m[\u001b[0m\u001b[1m]\u001b[0m\n",
       "\u001b[1m)\u001b[0m\n"
      ]
     },
     "metadata": {},
     "output_type": "display_data"
    },
    {
     "data": {
      "text/html": [
       "<pre style=\"white-space:pre;overflow-x:auto;line-height:normal;font-family:Menlo,'DejaVu Sans Mono',consolas,'Courier New',monospace\"><span style=\"color: #800080; text-decoration-color: #800080; font-weight: bold\">LLMStreamingResponse</span><span style=\"font-weight: bold\">(</span>\n",
       "    <span style=\"color: #808000; text-decoration-color: #808000\">id</span>=<span style=\"color: #008000; text-decoration-color: #008000\">'chatcmpl-CGoFAfTRtusA5sMlNciXogpioJwAj'</span>,\n",
       "    <span style=\"color: #808000; text-decoration-color: #808000\">response</span>=<span style=\"color: #008000; text-decoration-color: #008000\">\"Hello! I'm just a computer program, so I don't have feelings, but I'm here and ready to assist you. </span>\n",
       "<span style=\"color: #008000; text-decoration-color: #008000\">How can\"</span>,\n",
       "    <span style=\"color: #808000; text-decoration-color: #808000\">tool_calls</span>=<span style=\"font-weight: bold\">[]</span>\n",
       "<span style=\"font-weight: bold\">)</span>\n",
       "</pre>\n"
      ],
      "text/plain": [
       "\u001b[1;35mLLMStreamingResponse\u001b[0m\u001b[1m(\u001b[0m\n",
       "    \u001b[33mid\u001b[0m=\u001b[32m'chatcmpl-CGoFAfTRtusA5sMlNciXogpioJwAj'\u001b[0m,\n",
       "    \u001b[33mresponse\u001b[0m=\u001b[32m\"Hello\u001b[0m\u001b[32m! I'm just a computer program, so I don't have feelings, but I'm here and ready to assist you. \u001b[0m\n",
       "\u001b[32mHow can\"\u001b[0m,\n",
       "    \u001b[33mtool_calls\u001b[0m=\u001b[1m[\u001b[0m\u001b[1m]\u001b[0m\n",
       "\u001b[1m)\u001b[0m\n"
      ]
     },
     "metadata": {},
     "output_type": "display_data"
    },
    {
     "data": {
      "text/html": [
       "<pre style=\"white-space:pre;overflow-x:auto;line-height:normal;font-family:Menlo,'DejaVu Sans Mono',consolas,'Courier New',monospace\"><span style=\"color: #800080; text-decoration-color: #800080; font-weight: bold\">LLMStreamingResponse</span><span style=\"font-weight: bold\">(</span>\n",
       "    <span style=\"color: #808000; text-decoration-color: #808000\">id</span>=<span style=\"color: #008000; text-decoration-color: #008000\">'chatcmpl-CGoFAfTRtusA5sMlNciXogpioJwAj'</span>,\n",
       "    <span style=\"color: #808000; text-decoration-color: #808000\">response</span>=<span style=\"color: #008000; text-decoration-color: #008000\">\"Hello! I'm just a computer program, so I don't have feelings, but I'm here and ready to assist you. </span>\n",
       "<span style=\"color: #008000; text-decoration-color: #008000\">How can I\"</span>,\n",
       "    <span style=\"color: #808000; text-decoration-color: #808000\">tool_calls</span>=<span style=\"font-weight: bold\">[]</span>\n",
       "<span style=\"font-weight: bold\">)</span>\n",
       "</pre>\n"
      ],
      "text/plain": [
       "\u001b[1;35mLLMStreamingResponse\u001b[0m\u001b[1m(\u001b[0m\n",
       "    \u001b[33mid\u001b[0m=\u001b[32m'chatcmpl-CGoFAfTRtusA5sMlNciXogpioJwAj'\u001b[0m,\n",
       "    \u001b[33mresponse\u001b[0m=\u001b[32m\"Hello\u001b[0m\u001b[32m! I'm just a computer program, so I don't have feelings, but I'm here and ready to assist you. \u001b[0m\n",
       "\u001b[32mHow can I\"\u001b[0m,\n",
       "    \u001b[33mtool_calls\u001b[0m=\u001b[1m[\u001b[0m\u001b[1m]\u001b[0m\n",
       "\u001b[1m)\u001b[0m\n"
      ]
     },
     "metadata": {},
     "output_type": "display_data"
    },
    {
     "data": {
      "text/html": [
       "<pre style=\"white-space:pre;overflow-x:auto;line-height:normal;font-family:Menlo,'DejaVu Sans Mono',consolas,'Courier New',monospace\"><span style=\"color: #800080; text-decoration-color: #800080; font-weight: bold\">LLMStreamingResponse</span><span style=\"font-weight: bold\">(</span>\n",
       "    <span style=\"color: #808000; text-decoration-color: #808000\">id</span>=<span style=\"color: #008000; text-decoration-color: #008000\">'chatcmpl-CGoFAfTRtusA5sMlNciXogpioJwAj'</span>,\n",
       "    <span style=\"color: #808000; text-decoration-color: #808000\">response</span>=<span style=\"color: #008000; text-decoration-color: #008000\">\"Hello! I'm just a computer program, so I don't have feelings, but I'm here and ready to assist you. </span>\n",
       "<span style=\"color: #008000; text-decoration-color: #008000\">How can I help\"</span>,\n",
       "    <span style=\"color: #808000; text-decoration-color: #808000\">tool_calls</span>=<span style=\"font-weight: bold\">[]</span>\n",
       "<span style=\"font-weight: bold\">)</span>\n",
       "</pre>\n"
      ],
      "text/plain": [
       "\u001b[1;35mLLMStreamingResponse\u001b[0m\u001b[1m(\u001b[0m\n",
       "    \u001b[33mid\u001b[0m=\u001b[32m'chatcmpl-CGoFAfTRtusA5sMlNciXogpioJwAj'\u001b[0m,\n",
       "    \u001b[33mresponse\u001b[0m=\u001b[32m\"Hello\u001b[0m\u001b[32m! I'm just a computer program, so I don't have feelings, but I'm here and ready to assist you. \u001b[0m\n",
       "\u001b[32mHow can I help\"\u001b[0m,\n",
       "    \u001b[33mtool_calls\u001b[0m=\u001b[1m[\u001b[0m\u001b[1m]\u001b[0m\n",
       "\u001b[1m)\u001b[0m\n"
      ]
     },
     "metadata": {},
     "output_type": "display_data"
    },
    {
     "data": {
      "text/html": [
       "<pre style=\"white-space:pre;overflow-x:auto;line-height:normal;font-family:Menlo,'DejaVu Sans Mono',consolas,'Courier New',monospace\"><span style=\"color: #800080; text-decoration-color: #800080; font-weight: bold\">LLMStreamingResponse</span><span style=\"font-weight: bold\">(</span>\n",
       "    <span style=\"color: #808000; text-decoration-color: #808000\">id</span>=<span style=\"color: #008000; text-decoration-color: #008000\">'chatcmpl-CGoFAfTRtusA5sMlNciXogpioJwAj'</span>,\n",
       "    <span style=\"color: #808000; text-decoration-color: #808000\">response</span>=<span style=\"color: #008000; text-decoration-color: #008000\">\"Hello! I'm just a computer program, so I don't have feelings, but I'm here and ready to assist you. </span>\n",
       "<span style=\"color: #008000; text-decoration-color: #008000\">How can I help you\"</span>,\n",
       "    <span style=\"color: #808000; text-decoration-color: #808000\">tool_calls</span>=<span style=\"font-weight: bold\">[]</span>\n",
       "<span style=\"font-weight: bold\">)</span>\n",
       "</pre>\n"
      ],
      "text/plain": [
       "\u001b[1;35mLLMStreamingResponse\u001b[0m\u001b[1m(\u001b[0m\n",
       "    \u001b[33mid\u001b[0m=\u001b[32m'chatcmpl-CGoFAfTRtusA5sMlNciXogpioJwAj'\u001b[0m,\n",
       "    \u001b[33mresponse\u001b[0m=\u001b[32m\"Hello\u001b[0m\u001b[32m! I'm just a computer program, so I don't have feelings, but I'm here and ready to assist you. \u001b[0m\n",
       "\u001b[32mHow can I help you\"\u001b[0m,\n",
       "    \u001b[33mtool_calls\u001b[0m=\u001b[1m[\u001b[0m\u001b[1m]\u001b[0m\n",
       "\u001b[1m)\u001b[0m\n"
      ]
     },
     "metadata": {},
     "output_type": "display_data"
    },
    {
     "data": {
      "text/html": [
       "<pre style=\"white-space:pre;overflow-x:auto;line-height:normal;font-family:Menlo,'DejaVu Sans Mono',consolas,'Courier New',monospace\"><span style=\"color: #800080; text-decoration-color: #800080; font-weight: bold\">LLMStreamingResponse</span><span style=\"font-weight: bold\">(</span>\n",
       "    <span style=\"color: #808000; text-decoration-color: #808000\">id</span>=<span style=\"color: #008000; text-decoration-color: #008000\">'chatcmpl-CGoFAfTRtusA5sMlNciXogpioJwAj'</span>,\n",
       "    <span style=\"color: #808000; text-decoration-color: #808000\">response</span>=<span style=\"color: #008000; text-decoration-color: #008000\">\"Hello! I'm just a computer program, so I don't have feelings, but I'm here and ready to assist you. </span>\n",
       "<span style=\"color: #008000; text-decoration-color: #008000\">How can I help you today\"</span>,\n",
       "    <span style=\"color: #808000; text-decoration-color: #808000\">tool_calls</span>=<span style=\"font-weight: bold\">[]</span>\n",
       "<span style=\"font-weight: bold\">)</span>\n",
       "</pre>\n"
      ],
      "text/plain": [
       "\u001b[1;35mLLMStreamingResponse\u001b[0m\u001b[1m(\u001b[0m\n",
       "    \u001b[33mid\u001b[0m=\u001b[32m'chatcmpl-CGoFAfTRtusA5sMlNciXogpioJwAj'\u001b[0m,\n",
       "    \u001b[33mresponse\u001b[0m=\u001b[32m\"Hello\u001b[0m\u001b[32m! I'm just a computer program, so I don't have feelings, but I'm here and ready to assist you. \u001b[0m\n",
       "\u001b[32mHow can I help you today\"\u001b[0m,\n",
       "    \u001b[33mtool_calls\u001b[0m=\u001b[1m[\u001b[0m\u001b[1m]\u001b[0m\n",
       "\u001b[1m)\u001b[0m\n"
      ]
     },
     "metadata": {},
     "output_type": "display_data"
    },
    {
     "data": {
      "text/html": [
       "<pre style=\"white-space:pre;overflow-x:auto;line-height:normal;font-family:Menlo,'DejaVu Sans Mono',consolas,'Courier New',monospace\"><span style=\"color: #800080; text-decoration-color: #800080; font-weight: bold\">LLMStreamingResponse</span><span style=\"font-weight: bold\">(</span>\n",
       "    <span style=\"color: #808000; text-decoration-color: #808000\">id</span>=<span style=\"color: #008000; text-decoration-color: #008000\">'chatcmpl-CGoFAfTRtusA5sMlNciXogpioJwAj'</span>,\n",
       "    <span style=\"color: #808000; text-decoration-color: #808000\">response</span>=<span style=\"color: #008000; text-decoration-color: #008000\">\"Hello! I'm just a computer program, so I don't have feelings, but I'm here and ready to assist you. </span>\n",
       "<span style=\"color: #008000; text-decoration-color: #008000\">How can I help you today?\"</span>,\n",
       "    <span style=\"color: #808000; text-decoration-color: #808000\">tool_calls</span>=<span style=\"font-weight: bold\">[]</span>\n",
       "<span style=\"font-weight: bold\">)</span>\n",
       "</pre>\n"
      ],
      "text/plain": [
       "\u001b[1;35mLLMStreamingResponse\u001b[0m\u001b[1m(\u001b[0m\n",
       "    \u001b[33mid\u001b[0m=\u001b[32m'chatcmpl-CGoFAfTRtusA5sMlNciXogpioJwAj'\u001b[0m,\n",
       "    \u001b[33mresponse\u001b[0m=\u001b[32m\"Hello\u001b[0m\u001b[32m! I'm just a computer program, so I don't have feelings, but I'm here and ready to assist you. \u001b[0m\n",
       "\u001b[32mHow can I help you today?\"\u001b[0m,\n",
       "    \u001b[33mtool_calls\u001b[0m=\u001b[1m[\u001b[0m\u001b[1m]\u001b[0m\n",
       "\u001b[1m)\u001b[0m\n"
      ]
     },
     "metadata": {},
     "output_type": "display_data"
    },
    {
     "data": {
      "text/html": [
       "<pre style=\"white-space:pre;overflow-x:auto;line-height:normal;font-family:Menlo,'DejaVu Sans Mono',consolas,'Courier New',monospace\"><span style=\"color: #800080; text-decoration-color: #800080; font-weight: bold\">LLMStreamingResponse</span><span style=\"font-weight: bold\">(</span>\n",
       "    <span style=\"color: #808000; text-decoration-color: #808000\">id</span>=<span style=\"color: #008000; text-decoration-color: #008000\">'chatcmpl-CGoFAfTRtusA5sMlNciXogpioJwAj'</span>,\n",
       "    <span style=\"color: #808000; text-decoration-color: #808000\">response</span>=<span style=\"color: #008000; text-decoration-color: #008000\">\"Hello! I'm just a computer program, so I don't have feelings, but I'm here and ready to assist you. </span>\n",
       "<span style=\"color: #008000; text-decoration-color: #008000\">How can I help you today?\"</span>,\n",
       "    <span style=\"color: #808000; text-decoration-color: #808000\">tool_calls</span>=<span style=\"font-weight: bold\">[]</span>\n",
       "<span style=\"font-weight: bold\">)</span>\n",
       "</pre>\n"
      ],
      "text/plain": [
       "\u001b[1;35mLLMStreamingResponse\u001b[0m\u001b[1m(\u001b[0m\n",
       "    \u001b[33mid\u001b[0m=\u001b[32m'chatcmpl-CGoFAfTRtusA5sMlNciXogpioJwAj'\u001b[0m,\n",
       "    \u001b[33mresponse\u001b[0m=\u001b[32m\"Hello\u001b[0m\u001b[32m! I'm just a computer program, so I don't have feelings, but I'm here and ready to assist you. \u001b[0m\n",
       "\u001b[32mHow can I help you today?\"\u001b[0m,\n",
       "    \u001b[33mtool_calls\u001b[0m=\u001b[1m[\u001b[0m\u001b[1m]\u001b[0m\n",
       "\u001b[1m)\u001b[0m\n"
      ]
     },
     "metadata": {},
     "output_type": "display_data"
    },
    {
     "data": {
      "text/html": [
       "<pre style=\"white-space:pre;overflow-x:auto;line-height:normal;font-family:Menlo,'DejaVu Sans Mono',consolas,'Courier New',monospace\"><span style=\"color: #800080; text-decoration-color: #800080; font-weight: bold\">LLMStreamingResponse</span><span style=\"font-weight: bold\">(</span>\n",
       "    <span style=\"color: #808000; text-decoration-color: #808000\">id</span>=<span style=\"color: #008000; text-decoration-color: #008000\">'chatcmpl-CGoFAfTRtusA5sMlNciXogpioJwAj'</span>,\n",
       "    <span style=\"color: #808000; text-decoration-color: #808000\">response</span>=<span style=\"color: #008000; text-decoration-color: #008000\">\"Hello! I'm just a computer program, so I don't have feelings, but I'm here and ready to assist you. </span>\n",
       "<span style=\"color: #008000; text-decoration-color: #008000\">How can I help you today?\"</span>,\n",
       "    <span style=\"color: #808000; text-decoration-color: #808000\">tool_calls</span>=<span style=\"font-weight: bold\">[]</span>\n",
       "<span style=\"font-weight: bold\">)</span>\n",
       "</pre>\n"
      ],
      "text/plain": [
       "\u001b[1;35mLLMStreamingResponse\u001b[0m\u001b[1m(\u001b[0m\n",
       "    \u001b[33mid\u001b[0m=\u001b[32m'chatcmpl-CGoFAfTRtusA5sMlNciXogpioJwAj'\u001b[0m,\n",
       "    \u001b[33mresponse\u001b[0m=\u001b[32m\"Hello\u001b[0m\u001b[32m! I'm just a computer program, so I don't have feelings, but I'm here and ready to assist you. \u001b[0m\n",
       "\u001b[32mHow can I help you today?\"\u001b[0m,\n",
       "    \u001b[33mtool_calls\u001b[0m=\u001b[1m[\u001b[0m\u001b[1m]\u001b[0m\n",
       "\u001b[1m)\u001b[0m\n"
      ]
     },
     "metadata": {},
     "output_type": "display_data"
    },
    {
     "name": "stderr",
     "output_type": "stream",
     "text": [
      "2025/09/17 09:20:20 WARNING mlflow.utils.autologging_utils: MLflow autologging encountered a warning: \"/Users/fernandomeira/projects/tinyloop/.venv/lib/python3.11/site-packages/pydantic/main.py:463: UserWarning: Pydantic serializer warnings:\n",
      "  PydanticSerializationUnexpectedValue(Expected 9 fields but got 5: Expected `Message` - serialized value may not be as expected [input_value=Message(content=\"Hello! I...er_specific_fields=None), input_type=Message])\n",
      "  PydanticSerializationUnexpectedValue(Expected `StreamingChoices` - serialized value may not be as expected [input_value=Choices(finish_reason='st...r_specific_fields=None)), input_type=Choices])\"\n"
     ]
    },
    {
     "data": {
      "text/html": [
       "<pre style=\"white-space:pre;overflow-x:auto;line-height:normal;font-family:Menlo,'DejaVu Sans Mono',consolas,'Courier New',monospace\"><span style=\"color: #800080; text-decoration-color: #800080; font-weight: bold\">LLMResponse</span><span style=\"font-weight: bold\">(</span>\n",
       "    <span style=\"color: #808000; text-decoration-color: #808000\">response</span>=<span style=\"color: #008000; text-decoration-color: #008000\">\"Hello! I'm just a computer program, so I don't have feelings, but I'm here and ready to assist you. </span>\n",
       "<span style=\"color: #008000; text-decoration-color: #008000\">How can I help you today?\"</span>,\n",
       "    <span style=\"color: #808000; text-decoration-color: #808000\">raw_response</span>=<span style=\"color: #800080; text-decoration-color: #800080; font-style: italic\">None</span>,\n",
       "    <span style=\"color: #808000; text-decoration-color: #808000\">tool_calls</span>=<span style=\"font-weight: bold\">[]</span>,\n",
       "    <span style=\"color: #808000; text-decoration-color: #808000\">message_history</span>=<span style=\"font-weight: bold\">[</span>\n",
       "        <span style=\"font-weight: bold\">{</span><span style=\"color: #008000; text-decoration-color: #008000\">'role'</span>: <span style=\"color: #008000; text-decoration-color: #008000\">'user'</span>, <span style=\"color: #008000; text-decoration-color: #008000\">'content'</span>: <span style=\"color: #008000; text-decoration-color: #008000\">'Hello, how are you?'</span><span style=\"font-weight: bold\">}</span>,\n",
       "        <span style=\"font-weight: bold\">{</span>\n",
       "            <span style=\"color: #008000; text-decoration-color: #008000\">'role'</span>: <span style=\"color: #008000; text-decoration-color: #008000\">'assistant'</span>,\n",
       "            <span style=\"color: #008000; text-decoration-color: #008000\">'content'</span>: <span style=\"color: #008000; text-decoration-color: #008000\">\"Hello! I'm just a computer program, so I don't have feelings, but I'm here and ready to </span>\n",
       "<span style=\"color: #008000; text-decoration-color: #008000\">assist you. How can I help you today?\"</span>\n",
       "        <span style=\"font-weight: bold\">}</span>\n",
       "    <span style=\"font-weight: bold\">]</span>,\n",
       "    <span style=\"color: #808000; text-decoration-color: #808000\">cost</span>=<span style=\"color: #008080; text-decoration-color: #008080; font-weight: bold\">0.0</span>,\n",
       "    <span style=\"color: #808000; text-decoration-color: #808000\">hidden_fields</span>=<span style=\"font-weight: bold\">{}</span>\n",
       "<span style=\"font-weight: bold\">)</span>\n",
       "</pre>\n"
      ],
      "text/plain": [
       "\u001b[1;35mLLMResponse\u001b[0m\u001b[1m(\u001b[0m\n",
       "    \u001b[33mresponse\u001b[0m=\u001b[32m\"Hello\u001b[0m\u001b[32m! I'm just a computer program, so I don't have feelings, but I'm here and ready to assist you. \u001b[0m\n",
       "\u001b[32mHow can I help you today?\"\u001b[0m,\n",
       "    \u001b[33mraw_response\u001b[0m=\u001b[3;35mNone\u001b[0m,\n",
       "    \u001b[33mtool_calls\u001b[0m=\u001b[1m[\u001b[0m\u001b[1m]\u001b[0m,\n",
       "    \u001b[33mmessage_history\u001b[0m=\u001b[1m[\u001b[0m\n",
       "        \u001b[1m{\u001b[0m\u001b[32m'role'\u001b[0m: \u001b[32m'user'\u001b[0m, \u001b[32m'content'\u001b[0m: \u001b[32m'Hello, how are you?'\u001b[0m\u001b[1m}\u001b[0m,\n",
       "        \u001b[1m{\u001b[0m\n",
       "            \u001b[32m'role'\u001b[0m: \u001b[32m'assistant'\u001b[0m,\n",
       "            \u001b[32m'content'\u001b[0m: \u001b[32m\"Hello! I'm just a computer program, so I don't have feelings, but I'm here and ready to \u001b[0m\n",
       "\u001b[32massist you. How can I help you today?\"\u001b[0m\n",
       "        \u001b[1m}\u001b[0m\n",
       "    \u001b[1m]\u001b[0m,\n",
       "    \u001b[33mcost\u001b[0m=\u001b[1;36m0\u001b[0m\u001b[1;36m.0\u001b[0m,\n",
       "    \u001b[33mhidden_fields\u001b[0m=\u001b[1m{\u001b[0m\u001b[1m}\u001b[0m\n",
       "\u001b[1m)\u001b[0m\n"
      ]
     },
     "metadata": {},
     "output_type": "display_data"
    }
   ],
   "source": [
    "from tinyloop.inference.litellm import LLM\n",
    "from rich import print as rprint\n",
    "\n",
    "llm = LLM(model=\"openai/gpt-3.5-turbo\", temperature=0.1)\n",
    "\n",
    "response = await llm.acall(prompt=\"Hello, how are you?\", stream=True)\n",
    "async for chunk in response:\n",
    "    rprint(chunk)"
   ]
  },
  {
   "cell_type": "code",
   "execution_count": null,
   "id": "b00df8e6",
   "metadata": {},
   "outputs": [],
   "source": [
    "def track_cost_callback(kwargs, completion_response, start_time, end_time):\n",
    "    cost = kwargs[\"response_cost\"]\n",
    "    print(f\"tloop_final_cost={cost:.6f}\")\n",
    "\n",
    "\n",
    "litellm.success_callback = [track_cost_callback]"
   ]
  },
  {
   "cell_type": "code",
   "execution_count": null,
   "id": "bd47a1a6",
   "metadata": {},
   "outputs": [],
   "source": [
    "llm.get_history()"
   ]
  },
  {
   "cell_type": "code",
   "execution_count": null,
   "id": "65e2bc38",
   "metadata": {},
   "outputs": [],
   "source": [
    "from litellm import acompletion\n",
    "import asyncio\n",
    "import traceback\n",
    "\n",
    "\n",
    "async def completion_call():\n",
    "    try:\n",
    "        print(\"test acompletion + streaming\")\n",
    "        response = await acompletion(\n",
    "            model=\"gpt-3.5-turbo\",\n",
    "            messages=[{\"content\": \"Hello, how are you?\", \"role\": \"user\"}],\n",
    "            stream=True,\n",
    "        )\n",
    "        print(f\"response: {response}\")\n",
    "        async for chunk in response:\n",
    "            print(chunk)\n",
    "    except:\n",
    "        print(f\"error occurred: {traceback.format_exc()}\")\n",
    "        pass\n",
    "\n",
    "\n",
    "asyncio.run(completion_call())"
   ]
  },
  {
   "cell_type": "markdown",
   "id": "7f5174a4",
   "metadata": {},
   "source": [
    "### Structured outputs\n"
   ]
  },
  {
   "cell_type": "markdown",
   "id": "f5e7ecff",
   "metadata": {},
   "source": [
    "#### Sync\n"
   ]
  },
  {
   "cell_type": "code",
   "execution_count": null,
   "id": "104a6551",
   "metadata": {},
   "outputs": [],
   "source": [
    "from tinyloop.inference.litellm import LLM\n",
    "from pydantic import BaseModel\n",
    "\n",
    "llm = LLM(\n",
    "    model=\"openrouter/qwen/qwen-2.5-72b-instruct\",\n",
    "    temperature=0.1,\n",
    ")\n",
    "\n",
    "\n",
    "class CalendarEvent(BaseModel):\n",
    "    name: str\n",
    "    date: str\n",
    "    participants: list[str]\n",
    "\n",
    "\n",
    "class EventsList(BaseModel):\n",
    "    events: list[CalendarEvent]\n",
    "\n",
    "\n",
    "response = llm(\n",
    "    prompt=\"List 5 important events in the XIX century\", response_format=EventsList\n",
    ")\n",
    "rprint(response)"
   ]
  },
  {
   "cell_type": "markdown",
   "id": "b74ece61",
   "metadata": {},
   "source": [
    "#### Async\n"
   ]
  },
  {
   "cell_type": "code",
   "execution_count": null,
   "id": "cb6fc2f2",
   "metadata": {},
   "outputs": [],
   "source": [
    "from tinyloop.inference.litellm import LLM\n",
    "\n",
    "llm = LLM(model=\"openai/gpt-3.5-turbo\", temperature=0.1)\n",
    "\n",
    "response = await llm.acall(prompt=\"Hello, how are you?\")\n",
    "rprint(response)"
   ]
  },
  {
   "cell_type": "code",
   "execution_count": null,
   "id": "936b91f1",
   "metadata": {},
   "outputs": [],
   "source": [
    "from tinyloop.inference.litellm import LLM\n",
    "from pydantic import BaseModel\n",
    "\n",
    "llm = LLM(\n",
    "    model=\"anthropic/claude-3-5-haiku-20241022\",\n",
    "    temperature=0.1,\n",
    ")\n",
    "\n",
    "\n",
    "class CalendarEvent(BaseModel):\n",
    "    name: str\n",
    "    date: str\n",
    "    participants: list[str]\n",
    "\n",
    "\n",
    "class EventsList(BaseModel):\n",
    "    events: list[CalendarEvent]\n",
    "\n",
    "\n",
    "response = await llm.acall(\n",
    "    prompt=\"List 5 important events in the XIX century\", response_format=EventsList\n",
    ")\n",
    "rprint(response)"
   ]
  },
  {
   "cell_type": "code",
   "execution_count": null,
   "id": "f59206b3",
   "metadata": {},
   "outputs": [],
   "source": [
    "from tinyloop.inference.litellm import LLM\n",
    "from pydantic import BaseModel\n",
    "\n",
    "llm = LLM(\n",
    "    model=\"openrouter/google/gemini-2.5-flash\",\n",
    "    temperature=0.1,\n",
    ")\n",
    "\n",
    "\n",
    "class CalendarEvent(BaseModel):\n",
    "    name: str\n",
    "    date: str\n",
    "    participants: list[str]\n",
    "\n",
    "\n",
    "class EventsList(BaseModel):\n",
    "    events: list[CalendarEvent]\n",
    "\n",
    "\n",
    "response = await llm.acall(\n",
    "    prompt=\"List 5 important events in the XIX century\", response_format=EventsList\n",
    ")\n",
    "rprint(response)"
   ]
  },
  {
   "cell_type": "markdown",
   "id": "9c23d4e7",
   "metadata": {},
   "source": [
    "### Vision\n"
   ]
  },
  {
   "cell_type": "markdown",
   "id": "18b6f33f",
   "metadata": {},
   "source": [
    "#### Sync\n"
   ]
  },
  {
   "cell_type": "markdown",
   "id": "cc700dde",
   "metadata": {},
   "source": [
    "##### From PIL\n"
   ]
  },
  {
   "cell_type": "code",
   "execution_count": null,
   "id": "baac88b7",
   "metadata": {},
   "outputs": [],
   "source": [
    "from tinyloop.inference.litellm import LLM\n",
    "from PIL import Image as PILImage\n",
    "from tinyloop.features.vision import Image\n",
    "\n",
    "llm = LLM(\n",
    "    model=\"openai/gpt-4.1-nano\",\n",
    "    temperature=0.1,\n",
    ")\n",
    "\n",
    "\n",
    "# Read a local JPG file as PIL image\n",
    "pil_image = PILImage.open(\"sutton.jpg\")\n",
    "\n",
    "# Create tinyloop Image from PIL image\n",
    "image = Image.from_PIL(pil_image)\n",
    "\n",
    "\n",
    "response = llm(prompt=\"Describe the image\", images=[image])\n",
    "\n",
    "rprint(response)"
   ]
  },
  {
   "cell_type": "markdown",
   "id": "d4714c5a",
   "metadata": {},
   "source": [
    "##### From File\n"
   ]
  },
  {
   "cell_type": "code",
   "execution_count": null,
   "id": "bce2fce2",
   "metadata": {},
   "outputs": [],
   "source": [
    "from tinyloop.inference.litellm import LLM\n",
    "from PIL import Image as PILImage\n",
    "from tinyloop.features.vision import Image\n",
    "\n",
    "llm = LLM(\n",
    "    model=\"anthropic/claude-3-7-sonnet-20250219\",\n",
    "    temperature=0.1,\n",
    ")\n",
    "\n",
    "# Create tinyloop Image from PIL image\n",
    "image = Image.from_file(\"sutton.jpg\")\n",
    "\n",
    "\n",
    "response = llm(prompt=\"Describe the image\", images=[image])\n",
    "\n",
    "rprint(response)"
   ]
  },
  {
   "cell_type": "markdown",
   "id": "a001134d",
   "metadata": {},
   "source": [
    "##### From URL\n"
   ]
  },
  {
   "cell_type": "code",
   "execution_count": null,
   "id": "ee3c493e",
   "metadata": {},
   "outputs": [],
   "source": [
    "from tinyloop.inference.litellm import LLM\n",
    "from PIL import Image as PILImage\n",
    "from tinyloop.features.vision import Image\n",
    "import litellm\n",
    "\n",
    "llm = LLM(\n",
    "    model=\"openrouter/google/gemini-2.5-pro\",\n",
    "    temperature=0.1,\n",
    ")\n",
    "litellm._turn_on_debug()\n",
    "\n",
    "# Create tinyloop Image from PIL image\n",
    "url = \"https://images.ctfassets.net/cnu0m8re1exe/2xdqQSvfebktASbHvILYH5/fcc91130ad1ff329765595b669549d8d/Meet-Jumping-Spider-Adorable-Arachnid.jpg?fm=jpg&fl=progressive&w=660&h=433&fit=fill\"\n",
    "image = Image.from_url(url)\n",
    "\n",
    "\n",
    "response = llm(prompt=\"Describe the image\", images=[image])\n",
    "\n",
    "rprint(response)"
   ]
  },
  {
   "cell_type": "markdown",
   "id": "bc3f943b",
   "metadata": {},
   "source": [
    "#### Async\n"
   ]
  },
  {
   "cell_type": "markdown",
   "id": "bdbde200",
   "metadata": {},
   "source": [
    "##### From PIL\n"
   ]
  },
  {
   "cell_type": "code",
   "execution_count": null,
   "id": "cc9f888b",
   "metadata": {},
   "outputs": [],
   "source": [
    "from tinyloop.inference.litellm import LLM\n",
    "from PIL import Image as PILImage\n",
    "from tinyloop.features.vision import Image\n",
    "from rich import print as rprint\n",
    "\n",
    "llm = LLM(\n",
    "    model=\"openrouter/google/gemini-2.5-flash\",\n",
    "    temperature=0.1,\n",
    ")\n",
    "\n",
    "\n",
    "# Read a local JPG file as PIL image\n",
    "pil_image = PILImage.open(\"sutton.jpg\")\n",
    "\n",
    "# Create tinyloop Image from PIL image\n",
    "image = Image.from_PIL(pil_image)\n",
    "\n",
    "\n",
    "response = await llm.acall(prompt=\"Describe the image\", images=[image])\n",
    "\n",
    "rprint(response)"
   ]
  },
  {
   "cell_type": "markdown",
   "id": "af4cb9d9",
   "metadata": {},
   "source": [
    "##### From File\n"
   ]
  },
  {
   "cell_type": "code",
   "execution_count": null,
   "id": "e290a3f4",
   "metadata": {},
   "outputs": [],
   "source": [
    "from tinyloop.inference.litellm import LLM\n",
    "from PIL import Image as PILImage\n",
    "from tinyloop.features.vision import Image\n",
    "\n",
    "llm = LLM(\n",
    "    model=\"openai/gpt-4.1-nano\",\n",
    "    temperature=0.1,\n",
    ")\n",
    "\n",
    "# Create tinyloop Image from PIL image\n",
    "image = Image.from_file(\"sutton.jpg\")\n",
    "\n",
    "\n",
    "response = await llm.acall(prompt=\"Describe the image\", images=[image])\n",
    "\n",
    "rprint(response)"
   ]
  },
  {
   "cell_type": "markdown",
   "id": "13d0d65c",
   "metadata": {},
   "source": [
    "##### From URL\n"
   ]
  },
  {
   "cell_type": "code",
   "execution_count": null,
   "id": "cfdf0fed",
   "metadata": {},
   "outputs": [],
   "source": [
    "from tinyloop.inference.litellm import LLM\n",
    "from PIL import Image as PILImage\n",
    "from tinyloop.features.vision import Image\n",
    "\n",
    "llm = LLM(\n",
    "    model=\"anthropic/claude-3-7-sonnet-20250219\",\n",
    "    temperature=0.1,\n",
    ")\n",
    "\n",
    "# Create tinyloop Image from PIL image\n",
    "url = \"https://images.ctfassets.net/cnu0m8re1exe/2xdqQSvfebktASbHvILYH5/fcc91130ad1ff329765595b669549d8d/Meet-Jumping-Spider-Adorable-Arachnid.jpg?fm=jpg&fl=progressive&w=660&h=433&fit=fill\"\n",
    "image = Image.from_url(url)\n",
    "\n",
    "\n",
    "response = await llm.acall(prompt=\"Describe the image\", images=[image])\n",
    "\n",
    "rprint(response)"
   ]
  },
  {
   "cell_type": "markdown",
   "id": "6cf31ddd",
   "metadata": {},
   "source": [
    "### Function calling\n"
   ]
  },
  {
   "cell_type": "markdown",
   "id": "f533e504",
   "metadata": {},
   "source": [
    "#### Sync\n"
   ]
  },
  {
   "cell_type": "code",
   "execution_count": null,
   "id": "833e41c9",
   "metadata": {},
   "outputs": [],
   "source": [
    "from tinyloop.inference.litellm import LLM\n",
    "import json\n",
    "from tinyloop.features.function_calling import Tool\n",
    "\n",
    "\n",
    "def get_current_weather(location: str, unit: str):\n",
    "    \"\"\"Get the current weather in a given location\n",
    "\n",
    "    Parameters\n",
    "    ----------\n",
    "    location : str\n",
    "        The city and state, e.g. San Francisco, CA\n",
    "    unit : str {'celsius', 'fahrenheit'}\n",
    "        Temperature unit\n",
    "\n",
    "    Returns\n",
    "    -------\n",
    "    str\n",
    "        a sentence indicating the weather\n",
    "    \"\"\"\n",
    "    if location == \"Boston, MA\":\n",
    "        return \"The weather is 12F\"\n",
    "    return f\"Weather in {location} is sunny\"\n",
    "\n",
    "\n",
    "llm = LLM(\n",
    "    model=\"openai/gpt-4.1\",\n",
    "    temperature=0.1,\n",
    ")\n",
    "\n",
    "weather_tool = Tool(get_current_weather)\n",
    "\n",
    "inference = llm(\n",
    "    prompt=\"What is the weather in Boston, MA?\",\n",
    "    tools=[weather_tool],\n",
    ")\n",
    "\n",
    "for tool_call in inference.raw_response.choices[0].message.tool_calls:\n",
    "    tool_name = tool_call.function.name\n",
    "    tool_args = json.loads(tool_call.function.arguments)\n",
    "    print(f\"Tool: {tool_name}\")\n",
    "    print(f\"Args: {tool_args}\")\n",
    "    print(weather_tool(**tool_args))"
   ]
  },
  {
   "cell_type": "markdown",
   "id": "68ca18f9",
   "metadata": {},
   "source": [
    "#### Async\n"
   ]
  },
  {
   "cell_type": "code",
   "execution_count": null,
   "id": "f32a0663",
   "metadata": {},
   "outputs": [],
   "source": [
    "from tinyloop.inference.litellm import LLM\n",
    "import json\n",
    "from tinyloop.features.function_calling import Tool\n",
    "\n",
    "\n",
    "def get_current_weather(location: str, unit: str):\n",
    "    \"\"\"Get the current weather in a given location\n",
    "\n",
    "    Parameters\n",
    "    ----------\n",
    "    location : str\n",
    "        The city and state, e.g. San Francisco, CA\n",
    "    unit : str {'celsius', 'fahrenheit'}\n",
    "        Temperature unit\n",
    "\n",
    "    Returns\n",
    "    -------\n",
    "    str\n",
    "        a sentence indicating the weather\n",
    "    \"\"\"\n",
    "    if location == \"Boston, MA\":\n",
    "        return \"The weather is 12F\"\n",
    "    return f\"Weather in {location} is sunny\"\n",
    "\n",
    "\n",
    "llm = LLM(\n",
    "    model=\"openrouter/google/gemini-2.5-flash\",\n",
    "    temperature=0.1,\n",
    ")\n",
    "\n",
    "weather_tool = Tool(get_current_weather)\n",
    "\n",
    "inference = await llm.ainvoke(\n",
    "    prompt=\"What is the weather in Boston, MA (in fahrenheit)?\",\n",
    "    tools=[weather_tool],\n",
    ")\n",
    "\n",
    "for tool_call in inference.raw_response.choices[0].message.tool_calls:\n",
    "    tool_name = tool_call.function.name\n",
    "    tool_args = json.loads(tool_call.function.arguments)\n",
    "    print(f\"Tool: {tool_name}\")\n",
    "    print(f\"Args: {tool_args}\")\n",
    "    print(weather_tool(**tool_args))"
   ]
  },
  {
   "cell_type": "markdown",
   "id": "5270746f",
   "metadata": {},
   "source": [
    "#### Streaming\n"
   ]
  },
  {
   "cell_type": "code",
   "execution_count": 2,
   "id": "3d45d5f5",
   "metadata": {},
   "outputs": [
    {
     "data": {
      "text/html": [
       "<pre style=\"white-space:pre;overflow-x:auto;line-height:normal;font-family:Menlo,'DejaVu Sans Mono',consolas,'Courier New',monospace\"><span style=\"color: #800080; text-decoration-color: #800080; font-weight: bold\">LLMStreamingResponse</span><span style=\"font-weight: bold\">(</span>\n",
       "    <span style=\"color: #808000; text-decoration-color: #808000\">id</span>=<span style=\"color: #008000; text-decoration-color: #008000\">'gen-1758122382-TcGigp3qeY275Po1uVTN'</span>,\n",
       "    <span style=\"color: #808000; text-decoration-color: #808000\">response</span>=<span style=\"color: #008000; text-decoration-color: #008000\">''</span>,\n",
       "    <span style=\"color: #808000; text-decoration-color: #808000\">tool_calls</span>=<span style=\"font-weight: bold\">[</span>\n",
       "        <span style=\"color: #800080; text-decoration-color: #800080; font-weight: bold\">ToolCall</span><span style=\"font-weight: bold\">(</span>\n",
       "            <span style=\"color: #808000; text-decoration-color: #808000\">function_name</span>=<span style=\"color: #008000; text-decoration-color: #008000\">'get_current_weather'</span>,\n",
       "            <span style=\"color: #808000; text-decoration-color: #808000\">args</span>=<span style=\"font-weight: bold\">{</span><span style=\"color: #008000; text-decoration-color: #008000\">'unit'</span>: <span style=\"color: #008000; text-decoration-color: #008000\">'fahrenheit'</span>, <span style=\"color: #008000; text-decoration-color: #008000\">'location'</span>: <span style=\"color: #008000; text-decoration-color: #008000\">'Boston, MA'</span><span style=\"font-weight: bold\">}</span>,\n",
       "            <span style=\"color: #808000; text-decoration-color: #808000\">id</span>=<span style=\"color: #008000; text-decoration-color: #008000\">'tool_0_get_current_weather_4JR21GP4QdRkJ90ukQyC'</span>\n",
       "        <span style=\"font-weight: bold\">)</span>\n",
       "    <span style=\"font-weight: bold\">]</span>\n",
       "<span style=\"font-weight: bold\">)</span>\n",
       "</pre>\n"
      ],
      "text/plain": [
       "\u001b[1;35mLLMStreamingResponse\u001b[0m\u001b[1m(\u001b[0m\n",
       "    \u001b[33mid\u001b[0m=\u001b[32m'gen-1758122382-TcGigp3qeY275Po1uVTN'\u001b[0m,\n",
       "    \u001b[33mresponse\u001b[0m=\u001b[32m''\u001b[0m,\n",
       "    \u001b[33mtool_calls\u001b[0m=\u001b[1m[\u001b[0m\n",
       "        \u001b[1;35mToolCall\u001b[0m\u001b[1m(\u001b[0m\n",
       "            \u001b[33mfunction_name\u001b[0m=\u001b[32m'get_current_weather'\u001b[0m,\n",
       "            \u001b[33margs\u001b[0m=\u001b[1m{\u001b[0m\u001b[32m'unit'\u001b[0m: \u001b[32m'fahrenheit'\u001b[0m, \u001b[32m'location'\u001b[0m: \u001b[32m'Boston, MA'\u001b[0m\u001b[1m}\u001b[0m,\n",
       "            \u001b[33mid\u001b[0m=\u001b[32m'tool_0_get_current_weather_4JR21GP4QdRkJ90ukQyC'\u001b[0m\n",
       "        \u001b[1m)\u001b[0m\n",
       "    \u001b[1m]\u001b[0m\n",
       "\u001b[1m)\u001b[0m\n"
      ]
     },
     "metadata": {},
     "output_type": "display_data"
    },
    {
     "data": {
      "text/html": [
       "<pre style=\"white-space:pre;overflow-x:auto;line-height:normal;font-family:Menlo,'DejaVu Sans Mono',consolas,'Courier New',monospace\"><span style=\"color: #800080; text-decoration-color: #800080; font-weight: bold\">LLMStreamingResponse</span><span style=\"font-weight: bold\">(</span>\n",
       "    <span style=\"color: #808000; text-decoration-color: #808000\">id</span>=<span style=\"color: #008000; text-decoration-color: #008000\">'gen-1758122382-TcGigp3qeY275Po1uVTN'</span>,\n",
       "    <span style=\"color: #808000; text-decoration-color: #808000\">response</span>=<span style=\"color: #008000; text-decoration-color: #008000\">''</span>,\n",
       "    <span style=\"color: #808000; text-decoration-color: #808000\">tool_calls</span>=<span style=\"font-weight: bold\">[</span>\n",
       "        <span style=\"color: #800080; text-decoration-color: #800080; font-weight: bold\">ToolCall</span><span style=\"font-weight: bold\">(</span>\n",
       "            <span style=\"color: #808000; text-decoration-color: #808000\">function_name</span>=<span style=\"color: #008000; text-decoration-color: #008000\">'get_current_weather'</span>,\n",
       "            <span style=\"color: #808000; text-decoration-color: #808000\">args</span>=<span style=\"font-weight: bold\">{</span><span style=\"color: #008000; text-decoration-color: #008000\">'unit'</span>: <span style=\"color: #008000; text-decoration-color: #008000\">'fahrenheit'</span>, <span style=\"color: #008000; text-decoration-color: #008000\">'location'</span>: <span style=\"color: #008000; text-decoration-color: #008000\">'Boston, MA'</span><span style=\"font-weight: bold\">}</span>,\n",
       "            <span style=\"color: #808000; text-decoration-color: #808000\">id</span>=<span style=\"color: #008000; text-decoration-color: #008000\">'tool_0_get_current_weather_4JR21GP4QdRkJ90ukQyC'</span>\n",
       "        <span style=\"font-weight: bold\">)</span>\n",
       "    <span style=\"font-weight: bold\">]</span>\n",
       "<span style=\"font-weight: bold\">)</span>\n",
       "</pre>\n"
      ],
      "text/plain": [
       "\u001b[1;35mLLMStreamingResponse\u001b[0m\u001b[1m(\u001b[0m\n",
       "    \u001b[33mid\u001b[0m=\u001b[32m'gen-1758122382-TcGigp3qeY275Po1uVTN'\u001b[0m,\n",
       "    \u001b[33mresponse\u001b[0m=\u001b[32m''\u001b[0m,\n",
       "    \u001b[33mtool_calls\u001b[0m=\u001b[1m[\u001b[0m\n",
       "        \u001b[1;35mToolCall\u001b[0m\u001b[1m(\u001b[0m\n",
       "            \u001b[33mfunction_name\u001b[0m=\u001b[32m'get_current_weather'\u001b[0m,\n",
       "            \u001b[33margs\u001b[0m=\u001b[1m{\u001b[0m\u001b[32m'unit'\u001b[0m: \u001b[32m'fahrenheit'\u001b[0m, \u001b[32m'location'\u001b[0m: \u001b[32m'Boston, MA'\u001b[0m\u001b[1m}\u001b[0m,\n",
       "            \u001b[33mid\u001b[0m=\u001b[32m'tool_0_get_current_weather_4JR21GP4QdRkJ90ukQyC'\u001b[0m\n",
       "        \u001b[1m)\u001b[0m\n",
       "    \u001b[1m]\u001b[0m\n",
       "\u001b[1m)\u001b[0m\n"
      ]
     },
     "metadata": {},
     "output_type": "display_data"
    },
    {
     "data": {
      "text/html": [
       "<pre style=\"white-space:pre;overflow-x:auto;line-height:normal;font-family:Menlo,'DejaVu Sans Mono',consolas,'Courier New',monospace\"><span style=\"color: #800080; text-decoration-color: #800080; font-weight: bold\">LLMResponse</span><span style=\"font-weight: bold\">(</span>\n",
       "    <span style=\"color: #808000; text-decoration-color: #808000\">response</span>=<span style=\"color: #008000; text-decoration-color: #008000\">''</span>,\n",
       "    <span style=\"color: #808000; text-decoration-color: #808000\">raw_response</span>=<span style=\"color: #800080; text-decoration-color: #800080; font-style: italic\">None</span>,\n",
       "    <span style=\"color: #808000; text-decoration-color: #808000\">tool_calls</span>=<span style=\"font-weight: bold\">[</span>\n",
       "        <span style=\"color: #800080; text-decoration-color: #800080; font-weight: bold\">ToolCall</span><span style=\"font-weight: bold\">(</span>\n",
       "            <span style=\"color: #808000; text-decoration-color: #808000\">function_name</span>=<span style=\"color: #008000; text-decoration-color: #008000\">'get_current_weather'</span>,\n",
       "            <span style=\"color: #808000; text-decoration-color: #808000\">args</span>=<span style=\"font-weight: bold\">{</span><span style=\"color: #008000; text-decoration-color: #008000\">'unit'</span>: <span style=\"color: #008000; text-decoration-color: #008000\">'fahrenheit'</span>, <span style=\"color: #008000; text-decoration-color: #008000\">'location'</span>: <span style=\"color: #008000; text-decoration-color: #008000\">'Boston, MA'</span><span style=\"font-weight: bold\">}</span>,\n",
       "            <span style=\"color: #808000; text-decoration-color: #808000\">id</span>=<span style=\"color: #008000; text-decoration-color: #008000\">'tool_0_get_current_weather_4JR21GP4QdRkJ90ukQyC'</span>\n",
       "        <span style=\"font-weight: bold\">)</span>\n",
       "    <span style=\"font-weight: bold\">]</span>,\n",
       "    <span style=\"color: #808000; text-decoration-color: #808000\">message_history</span>=<span style=\"font-weight: bold\">[</span>\n",
       "        <span style=\"font-weight: bold\">{</span><span style=\"color: #008000; text-decoration-color: #008000\">'role'</span>: <span style=\"color: #008000; text-decoration-color: #008000\">'user'</span>, <span style=\"color: #008000; text-decoration-color: #008000\">'content'</span>: <span style=\"color: #008000; text-decoration-color: #008000\">'What is the weather in Boston, MA (in fahrenheit)?'</span><span style=\"font-weight: bold\">}</span>,\n",
       "        <span style=\"font-weight: bold\">{</span>\n",
       "            <span style=\"color: #008000; text-decoration-color: #008000\">'role'</span>: <span style=\"color: #008000; text-decoration-color: #008000\">'assistant'</span>,\n",
       "            <span style=\"color: #008000; text-decoration-color: #008000\">'content'</span>: <span style=\"color: #008000; text-decoration-color: #008000\">''</span>,\n",
       "            <span style=\"color: #008000; text-decoration-color: #008000\">'tool_calls'</span>: <span style=\"font-weight: bold\">[</span>\n",
       "                <span style=\"font-weight: bold\">{</span>\n",
       "                    <span style=\"color: #008000; text-decoration-color: #008000\">'id'</span>: <span style=\"color: #008000; text-decoration-color: #008000\">'tool_0_get_current_weather_4JR21GP4QdRkJ90ukQyC'</span>,\n",
       "                    <span style=\"color: #008000; text-decoration-color: #008000\">'type'</span>: <span style=\"color: #008000; text-decoration-color: #008000\">'function'</span>,\n",
       "                    <span style=\"color: #008000; text-decoration-color: #008000\">'function'</span>: <span style=\"font-weight: bold\">{</span>\n",
       "                        <span style=\"color: #008000; text-decoration-color: #008000\">'name'</span>: <span style=\"color: #008000; text-decoration-color: #008000\">'get_current_weather'</span>,\n",
       "                        <span style=\"color: #008000; text-decoration-color: #008000\">'arguments'</span>: <span style=\"color: #008000; text-decoration-color: #008000\">'{\"unit\": \"fahrenheit\", \"location\": \"Boston, MA\"}'</span>\n",
       "                    <span style=\"font-weight: bold\">}</span>\n",
       "                <span style=\"font-weight: bold\">}</span>\n",
       "            <span style=\"font-weight: bold\">]</span>\n",
       "        <span style=\"font-weight: bold\">}</span>\n",
       "    <span style=\"font-weight: bold\">]</span>,\n",
       "    <span style=\"color: #808000; text-decoration-color: #808000\">cost</span>=<span style=\"color: #008080; text-decoration-color: #008080; font-weight: bold\">0.0</span>,\n",
       "    <span style=\"color: #808000; text-decoration-color: #808000\">hidden_fields</span>=<span style=\"font-weight: bold\">{}</span>\n",
       "<span style=\"font-weight: bold\">)</span>\n",
       "</pre>\n"
      ],
      "text/plain": [
       "\u001b[1;35mLLMResponse\u001b[0m\u001b[1m(\u001b[0m\n",
       "    \u001b[33mresponse\u001b[0m=\u001b[32m''\u001b[0m,\n",
       "    \u001b[33mraw_response\u001b[0m=\u001b[3;35mNone\u001b[0m,\n",
       "    \u001b[33mtool_calls\u001b[0m=\u001b[1m[\u001b[0m\n",
       "        \u001b[1;35mToolCall\u001b[0m\u001b[1m(\u001b[0m\n",
       "            \u001b[33mfunction_name\u001b[0m=\u001b[32m'get_current_weather'\u001b[0m,\n",
       "            \u001b[33margs\u001b[0m=\u001b[1m{\u001b[0m\u001b[32m'unit'\u001b[0m: \u001b[32m'fahrenheit'\u001b[0m, \u001b[32m'location'\u001b[0m: \u001b[32m'Boston, MA'\u001b[0m\u001b[1m}\u001b[0m,\n",
       "            \u001b[33mid\u001b[0m=\u001b[32m'tool_0_get_current_weather_4JR21GP4QdRkJ90ukQyC'\u001b[0m\n",
       "        \u001b[1m)\u001b[0m\n",
       "    \u001b[1m]\u001b[0m,\n",
       "    \u001b[33mmessage_history\u001b[0m=\u001b[1m[\u001b[0m\n",
       "        \u001b[1m{\u001b[0m\u001b[32m'role'\u001b[0m: \u001b[32m'user'\u001b[0m, \u001b[32m'content'\u001b[0m: \u001b[32m'What is the weather in Boston, MA \u001b[0m\u001b[32m(\u001b[0m\u001b[32min fahrenheit\u001b[0m\u001b[32m)\u001b[0m\u001b[32m?'\u001b[0m\u001b[1m}\u001b[0m,\n",
       "        \u001b[1m{\u001b[0m\n",
       "            \u001b[32m'role'\u001b[0m: \u001b[32m'assistant'\u001b[0m,\n",
       "            \u001b[32m'content'\u001b[0m: \u001b[32m''\u001b[0m,\n",
       "            \u001b[32m'tool_calls'\u001b[0m: \u001b[1m[\u001b[0m\n",
       "                \u001b[1m{\u001b[0m\n",
       "                    \u001b[32m'id'\u001b[0m: \u001b[32m'tool_0_get_current_weather_4JR21GP4QdRkJ90ukQyC'\u001b[0m,\n",
       "                    \u001b[32m'type'\u001b[0m: \u001b[32m'function'\u001b[0m,\n",
       "                    \u001b[32m'function'\u001b[0m: \u001b[1m{\u001b[0m\n",
       "                        \u001b[32m'name'\u001b[0m: \u001b[32m'get_current_weather'\u001b[0m,\n",
       "                        \u001b[32m'arguments'\u001b[0m: \u001b[32m'\u001b[0m\u001b[32m{\u001b[0m\u001b[32m\"unit\": \"fahrenheit\", \"location\": \"Boston, MA\"\u001b[0m\u001b[32m}\u001b[0m\u001b[32m'\u001b[0m\n",
       "                    \u001b[1m}\u001b[0m\n",
       "                \u001b[1m}\u001b[0m\n",
       "            \u001b[1m]\u001b[0m\n",
       "        \u001b[1m}\u001b[0m\n",
       "    \u001b[1m]\u001b[0m,\n",
       "    \u001b[33mcost\u001b[0m=\u001b[1;36m0\u001b[0m\u001b[1;36m.0\u001b[0m,\n",
       "    \u001b[33mhidden_fields\u001b[0m=\u001b[1m{\u001b[0m\u001b[1m}\u001b[0m\n",
       "\u001b[1m)\u001b[0m\n"
      ]
     },
     "metadata": {},
     "output_type": "display_data"
    }
   ],
   "source": [
    "from tinyloop.inference.litellm import LLM\n",
    "from rich import print as rprint\n",
    "from tinyloop.features.function_calling import Tool\n",
    "\n",
    "\n",
    "def get_current_weather(location: str, unit: str):\n",
    "    \"\"\"Get the current weather in a given location\n",
    "\n",
    "    Parameters\n",
    "    ----------\n",
    "    location : str\n",
    "        The city and state, e.g. San Francisco, CA\n",
    "    unit : str {'celsius', 'fahrenheit'}\n",
    "        Temperature unit\n",
    "\n",
    "    Returns\n",
    "    -------\n",
    "    str\n",
    "        a sentence indicating the weather\n",
    "    \"\"\"\n",
    "    if location == \"Boston, MA\":\n",
    "        return \"The weather is 12F\"\n",
    "    return f\"Weather in {location} is sunny\"\n",
    "\n",
    "\n",
    "llm = LLM(\n",
    "    model=\"openrouter/google/gemini-2.5-flash\",\n",
    "    temperature=0.1,\n",
    ")\n",
    "\n",
    "weather_tool = Tool(get_current_weather)\n",
    "\n",
    "inference = await llm.ainvoke(\n",
    "    prompt=\"What is the weather in Boston, MA (in fahrenheit)?\",\n",
    "    tools=[weather_tool],\n",
    "    stream=True,\n",
    ")\n",
    "\n",
    "async for chunk in inference:\n",
    "    rprint(chunk)\n",
    "\n",
    "# for tool_call in inference.raw_response.choices[0].message.tool_calls:\n",
    "#     tool_name = tool_call.function.name\n",
    "#     tool_args = json.loads(tool_call.function.arguments)\n",
    "#     print(f\"Tool: {tool_name}\")\n",
    "#     print(f\"Args: {tool_args}\")\n",
    "#     print(weather_tool(**tool_args))"
   ]
  }
 ],
 "metadata": {
  "kernelspec": {
   "display_name": ".venv",
   "language": "python",
   "name": "python3"
  },
  "language_info": {
   "codemirror_mode": {
    "name": "ipython",
    "version": 3
   },
   "file_extension": ".py",
   "mimetype": "text/x-python",
   "name": "python",
   "nbconvert_exporter": "python",
   "pygments_lexer": "ipython3",
   "version": "3.11.11"
  }
 },
 "nbformat": 4,
 "nbformat_minor": 5
}
